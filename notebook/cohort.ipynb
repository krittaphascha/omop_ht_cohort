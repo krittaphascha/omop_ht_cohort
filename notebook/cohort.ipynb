{
 "cells": [
  {
   "cell_type": "code",
   "execution_count": 1,
   "metadata": {},
   "outputs": [
    {
     "name": "stderr",
     "output_type": "stream",
     "text": [
      "C:\\Users\\krittaphas.chi\\AppData\\Local\\Temp\\ipykernel_18248\\4080736814.py:1: DeprecationWarning: \n",
      "Pyarrow will become a required dependency of pandas in the next major release of pandas (pandas 3.0),\n",
      "(to allow more performant data types, such as the Arrow string type, and better interoperability with other libraries)\n",
      "but was not found to be installed on your system.\n",
      "If this would cause problems for you,\n",
      "please provide us feedback at https://github.com/pandas-dev/pandas/issues/54466\n",
      "        \n",
      "  import pandas as pd\n"
     ]
    }
   ],
   "source": [
    "import pandas as pd"
   ]
  },
  {
   "cell_type": "code",
   "execution_count": 2,
   "metadata": {},
   "outputs": [],
   "source": [
    "# get patients data\n",
    "pt = pd.read_csv('..\\data\\include_pt_28apr24.csv')\n"
   ]
  },
  {
   "cell_type": "code",
   "execution_count": 3,
   "metadata": {},
   "outputs": [
    {
     "data": {
      "text/plain": [
       "criteria\n",
       "diag+drug    195700\n",
       "diag         102727\n",
       "drug          53320\n",
       "Name: count, dtype: int64"
      ]
     },
     "execution_count": 3,
     "metadata": {},
     "output_type": "execute_result"
    }
   ],
   "source": [
    "pt['criteria'].value_counts()"
   ]
  },
  {
   "cell_type": "code",
   "execution_count": 12,
   "metadata": {},
   "outputs": [],
   "source": [
    "exclusion = pd.read_csv('..\\data\\exclusion_drug_only_28apr24_edited.csv')"
   ]
  },
  {
   "cell_type": "code",
   "execution_count": 13,
   "metadata": {},
   "outputs": [
    {
     "name": "stdout",
     "output_type": "stream",
     "text": [
      "7485\n"
     ]
    }
   ],
   "source": [
    "excluded_patients = (exclusion.loc[exclusion['summary'] >= 1, 'person_id'].values)\n",
    "print(len(excluded_patients))"
   ]
  },
  {
   "cell_type": "code",
   "execution_count": 14,
   "metadata": {},
   "outputs": [],
   "source": [
    "pt_excluded = pt[~pt.person_id.isin(excluded_patients)]"
   ]
  },
  {
   "cell_type": "code",
   "execution_count": 15,
   "metadata": {},
   "outputs": [
    {
     "name": "stdout",
     "output_type": "stream",
     "text": [
      "344262\n"
     ]
    },
    {
     "data": {
      "text/plain": [
       "criteria\n",
       "diag+drug    195700\n",
       "diag         102727\n",
       "drug          45835\n",
       "Name: count, dtype: int64"
      ]
     },
     "execution_count": 15,
     "metadata": {},
     "output_type": "execute_result"
    }
   ],
   "source": [
    "print(len(pt_excluded))\n",
    "pt_excluded['criteria'].value_counts()"
   ]
  },
  {
   "cell_type": "code",
   "execution_count": 16,
   "metadata": {},
   "outputs": [
    {
     "data": {
      "text/plain": [
       "person_id           160710757012\n",
       "hyperthyroid_bb               30\n",
       "af_bb                          6\n",
       "hf_k_sparing                1830\n",
       "acne_k_sparing              1460\n",
       "hair_k_sparing                29\n",
       "cirr_k_sparing              1601\n",
       "hf_loop                     3614\n",
       "bph_alpha                      0\n",
       "hf_acei                     1385\n",
       "hf_arb                       676\n",
       "arrythmia_nondhp             492\n",
       "preg_alpha2                   56\n",
       "summary                    11179\n",
       "dtype: int64"
      ]
     },
     "execution_count": 16,
     "metadata": {},
     "output_type": "execute_result"
    }
   ],
   "source": [
    "exclusion.sum(axis=0)"
   ]
  },
  {
   "cell_type": "code",
   "execution_count": 17,
   "metadata": {},
   "outputs": [
    {
     "name": "stdout",
     "output_type": "stream",
     "text": [
      "6431\n"
     ]
    },
    {
     "name": "stderr",
     "output_type": "stream",
     "text": [
      "C:\\Users\\krittaphas.chi\\AppData\\Local\\Temp\\ipykernel_18248\\131066092.py:2: SettingWithCopyWarning: \n",
      "A value is trying to be set on a copy of a slice from a DataFrame.\n",
      "Try using .loc[row_indexer,col_indexer] = value instead\n",
      "\n",
      "See the caveats in the documentation: https://pandas.pydata.org/pandas-docs/stable/user_guide/indexing.html#returning-a-view-versus-a-copy\n",
      "  pt_excluded['age'] = pt_excluded[['age_at_first_diag', 'age_at_first_drug']].min(axis=1)\n"
     ]
    }
   ],
   "source": [
    "# excluded age < 18 years\n",
    "pt_excluded['age'] = pt_excluded[['age_at_first_diag', 'age_at_first_drug']].min(axis=1)\n",
    "\n",
    "print(len(pt_excluded[pt_excluded['age'] < 18]))\n",
    "\n",
    "pt_excluded = pt_excluded[pt_excluded['age'] >= 18]"
   ]
  },
  {
   "cell_type": "code",
   "execution_count": 18,
   "metadata": {},
   "outputs": [
    {
     "data": {
      "text/plain": [
       "337831"
      ]
     },
     "execution_count": 18,
     "metadata": {},
     "output_type": "execute_result"
    }
   ],
   "source": [
    "len(pt_excluded)"
   ]
  }
 ],
 "metadata": {
  "kernelspec": {
   "display_name": "Python 3",
   "language": "python",
   "name": "python3"
  },
  "language_info": {
   "codemirror_mode": {
    "name": "ipython",
    "version": 3
   },
   "file_extension": ".py",
   "mimetype": "text/x-python",
   "name": "python",
   "nbconvert_exporter": "python",
   "pygments_lexer": "ipython3",
   "version": "3.11.7"
  }
 },
 "nbformat": 4,
 "nbformat_minor": 2
}
