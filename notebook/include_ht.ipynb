{
 "cells": [
  {
   "cell_type": "code",
   "execution_count": 1,
   "metadata": {},
   "outputs": [
    {
     "name": "stderr",
     "output_type": "stream",
     "text": [
      "C:\\Users\\krittaphas.chi\\AppData\\Local\\Temp\\ipykernel_4268\\4283691341.py:1: DeprecationWarning: \n",
      "Pyarrow will become a required dependency of pandas in the next major release of pandas (pandas 3.0),\n",
      "(to allow more performant data types, such as the Arrow string type, and better interoperability with other libraries)\n",
      "but was not found to be installed on your system.\n",
      "If this would cause problems for you,\n",
      "please provide us feedback at https://github.com/pandas-dev/pandas/issues/54466\n",
      "        \n",
      "  import pandas as pd\n"
     ]
    }
   ],
   "source": [
    "import pandas as pd\n",
    "import sqlalchemy as sal\n",
    "from dotenv import load_dotenv\n",
    "import numpy as np\n",
    "import os\n",
    "load_dotenv()\n",
    "\n",
    "# Create a connection to the database\n",
    "server_database = os.getenv(\"SERVER_DATABASE\")\n",
    "engine = sal.create_engine(f'mssql+pyodbc://@{server_database}?trusted_connection=yes&driver=SQL+Server')\n",
    "conn = engine.connect()"
   ]
  },
  {
   "cell_type": "code",
   "execution_count": 2,
   "metadata": {},
   "outputs": [
    {
     "name": "stdout",
     "output_type": "stream",
     "text": [
      "Number of patients included by OMOP concept IDs: 298427\n"
     ]
    }
   ],
   "source": [
    "with open('..\\sql\\inclusion\\icd.sql') as file:\n",
    "    sql_command = file.read()\n",
    "    pt_diag = pd.read_sql(sql_command, conn)\n",
    "    file.close()\n",
    "\n",
    "print(\"Number of patients included by OMOP concept IDs:\",len(pt_diag))"
   ]
  },
  {
   "cell_type": "code",
   "execution_count": 3,
   "metadata": {},
   "outputs": [
    {
     "name": "stdout",
     "output_type": "stream",
     "text": [
      "Number of patients included by lab criteria: 249020\n"
     ]
    }
   ],
   "source": [
    "with open('..\\sql\\inclusion\\drug.sql') as file:\n",
    "    sql_command = file.read()\n",
    "    pt_drug = pd.read_sql(sql_command, conn)\n",
    "    file.close()\n",
    "print(\"Number of patients included by lab criteria:\",len(pt_drug))"
   ]
  },
  {
   "cell_type": "code",
   "execution_count": 4,
   "metadata": {},
   "outputs": [
    {
     "name": "stdout",
     "output_type": "stream",
     "text": [
      "Number of patients included by code criteria: 102727\n",
      "Number of patients included by drug criteria: 53320\n",
      "Number of patients satisfied both criteria: 195700\n"
     ]
    }
   ],
   "source": [
    "print(\"Number of patients included by code criteria:\",len(set(pt_diag['person_id'].values) - set(pt_drug['person_id'].values)))\n",
    "print(\"Number of patients included by drug criteria:\",len(set(pt_drug['person_id'].values) - set(pt_diag['person_id'].values)))\n",
    "\n",
    "print(\"Number of patients satisfied both criteria:\",len(pt_diag.merge(pt_drug, on='person_id', how='inner')))\n",
    "\n"
   ]
  },
  {
   "cell_type": "code",
   "execution_count": 5,
   "metadata": {},
   "outputs": [],
   "source": [
    "merge_data = pt_diag.merge(pt_drug, on='person_id', how='outer')"
   ]
  },
  {
   "cell_type": "code",
   "execution_count": 6,
   "metadata": {},
   "outputs": [],
   "source": [
    "merge_data['diag'] = [1 if ~np.isnan(merge_data.loc[i ,'condition_concept_id']) else 0 for i in range(len(merge_data))]\n",
    "merge_data['drug'] = [1 if ~np.isnan(merge_data.loc[i ,'age_at_first_drug']) else 0 for i in range(len(merge_data))]\n"
   ]
  },
  {
   "cell_type": "code",
   "execution_count": 7,
   "metadata": {},
   "outputs": [],
   "source": [
    "merge_data['criteria'] = ['diag' if merge_data.loc[i, 'diag'] == 1 else '' for i in range(len(merge_data))]\n",
    "merge_data['criteria'] = [x + ' drug' if merge_data.loc[i, 'drug'] == 1 else x for i, x in enumerate(merge_data['criteria'])]"
   ]
  },
  {
   "cell_type": "code",
   "execution_count": 8,
   "metadata": {},
   "outputs": [],
   "source": [
    "merge_data['criteria'] = merge_data['criteria'].apply(lambda x: x.strip())\n",
    "merge_data['criteria'] = merge_data['criteria'].apply(lambda x: x.replace(' ', '+'))"
   ]
  },
  {
   "cell_type": "code",
   "execution_count": 9,
   "metadata": {},
   "outputs": [],
   "source": [
    "merge_data.to_csv('../data/include_pt_28apr24.csv', index=False)"
   ]
  },
  {
   "cell_type": "code",
   "execution_count": 10,
   "metadata": {},
   "outputs": [
    {
     "data": {
      "text/plain": [
       "criteria\n",
       "diag+drug    195700\n",
       "diag         102727\n",
       "drug          53320\n",
       "Name: count, dtype: int64"
      ]
     },
     "execution_count": 10,
     "metadata": {},
     "output_type": "execute_result"
    }
   ],
   "source": [
    "merge_data['criteria'].value_counts()"
   ]
  },
  {
   "cell_type": "code",
   "execution_count": null,
   "metadata": {},
   "outputs": [],
   "source": []
  }
 ],
 "metadata": {
  "kernelspec": {
   "display_name": "Python 3",
   "language": "python",
   "name": "python3"
  },
  "language_info": {
   "codemirror_mode": {
    "name": "ipython",
    "version": 3
   },
   "file_extension": ".py",
   "mimetype": "text/x-python",
   "name": "python",
   "nbconvert_exporter": "python",
   "pygments_lexer": "ipython3",
   "version": "3.11.7"
  }
 },
 "nbformat": 4,
 "nbformat_minor": 2
}
