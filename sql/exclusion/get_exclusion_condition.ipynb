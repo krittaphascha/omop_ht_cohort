{
 "cells": [
  {
   "cell_type": "code",
   "execution_count": 1,
   "metadata": {},
   "outputs": [
    {
     "name": "stderr",
     "output_type": "stream",
     "text": [
      "C:\\Users\\krittaphas.chi\\AppData\\Local\\Temp\\ipykernel_10472\\623310641.py:1: DeprecationWarning: \n",
      "Pyarrow will become a required dependency of pandas in the next major release of pandas (pandas 3.0),\n",
      "(to allow more performant data types, such as the Arrow string type, and better interoperability with other libraries)\n",
      "but was not found to be installed on your system.\n",
      "If this would cause problems for you,\n",
      "please provide us feedback at https://github.com/pandas-dev/pandas/issues/54466\n",
      "        \n",
      "  import pandas as pd\n"
     ]
    }
   ],
   "source": [
    "import pandas as pd\n",
    "import sqlalchemy as sal\n",
    "from dotenv import load_dotenv\n",
    "import os\n",
    "from tqdm import tqdm\n",
    "import json\n",
    "load_dotenv()\n",
    "\n",
    "# Create a connection to the database\n",
    "server_database = os.getenv(\"SERVER_DATABASE\")\n",
    "engine = sal.create_engine(f'mssql+pyodbc://@{server_database}?trusted_connection=yes&driver=SQL+Server')\n",
    "conn = engine.connect()"
   ]
  },
  {
   "cell_type": "code",
   "execution_count": 2,
   "metadata": {},
   "outputs": [],
   "source": [
    "import generate_drug_diag_code as gen_code"
   ]
  },
  {
   "cell_type": "code",
   "execution_count": 3,
   "metadata": {},
   "outputs": [
    {
     "name": "stdout",
     "output_type": "stream",
     "text": [
      "351747\n"
     ]
    }
   ],
   "source": [
    "# get patients data\n",
    "pt = pd.read_csv('..\\..\\data\\include_pt_28apr24.csv')\n",
    "pt_list = pt['person_id']\n",
    "print(len(pt_list))"
   ]
  },
  {
   "cell_type": "code",
   "execution_count": 4,
   "metadata": {},
   "outputs": [],
   "source": [
    "with open('diagnosis_dict.json', 'r') as file:\n",
    "    diagnosis_dict = json.load(file)\n",
    "    file.close()"
   ]
  },
  {
   "cell_type": "code",
   "execution_count": 5,
   "metadata": {},
   "outputs": [
    {
     "name": "stderr",
     "output_type": "stream",
     "text": [
      "  0%|          | 0/36 [00:00<?, ?it/s]"
     ]
    },
    {
     "name": "stdout",
     "output_type": "stream",
     "text": [
      "starting batch  1  of  36 subject  0  to  9999\n",
      "no exisiting dataframe, creating new one\n"
     ]
    },
    {
     "name": "stderr",
     "output_type": "stream",
     "text": [
      "  3%|▎         | 1/36 [00:05<03:16,  5.62s/it]"
     ]
    },
    {
     "name": "stdout",
     "output_type": "stream",
     "text": [
      "finising batch  1  of  36 number of records 5961\n",
      "starting batch  2  of  36 subject  10000  to  19999\n"
     ]
    },
    {
     "name": "stderr",
     "output_type": "stream",
     "text": [
      "  6%|▌         | 2/36 [00:09<02:41,  4.75s/it]"
     ]
    },
    {
     "name": "stdout",
     "output_type": "stream",
     "text": [
      "finising batch  2  of  36 number of records 11969\n",
      "starting batch  3  of  36 subject  20000  to  29999\n"
     ]
    },
    {
     "name": "stderr",
     "output_type": "stream",
     "text": [
      "  8%|▊         | 3/36 [00:13<02:23,  4.36s/it]"
     ]
    },
    {
     "name": "stdout",
     "output_type": "stream",
     "text": [
      "finising batch  3  of  36 number of records 17893\n",
      "starting batch  4  of  36 subject  30000  to  39999\n"
     ]
    },
    {
     "name": "stderr",
     "output_type": "stream",
     "text": [
      " 11%|█         | 4/36 [00:19<02:38,  4.95s/it]"
     ]
    },
    {
     "name": "stdout",
     "output_type": "stream",
     "text": [
      "finising batch  4  of  36 number of records 23677\n",
      "starting batch  5  of  36 subject  40000  to  49999\n"
     ]
    },
    {
     "name": "stderr",
     "output_type": "stream",
     "text": [
      " 14%|█▍        | 5/36 [00:25<02:50,  5.49s/it]"
     ]
    },
    {
     "name": "stdout",
     "output_type": "stream",
     "text": [
      "finising batch  5  of  36 number of records 29626\n",
      "starting batch  6  of  36 subject  50000  to  59999\n"
     ]
    },
    {
     "name": "stderr",
     "output_type": "stream",
     "text": [
      " 17%|█▋        | 6/36 [00:32<02:51,  5.72s/it]"
     ]
    },
    {
     "name": "stdout",
     "output_type": "stream",
     "text": [
      "finising batch  6  of  36 number of records 35668\n",
      "starting batch  7  of  36 subject  60000  to  69999\n"
     ]
    },
    {
     "name": "stderr",
     "output_type": "stream",
     "text": [
      " 19%|█▉        | 7/36 [00:40<03:14,  6.72s/it]"
     ]
    },
    {
     "name": "stdout",
     "output_type": "stream",
     "text": [
      "finising batch  7  of  36 number of records 41453\n",
      "starting batch  8  of  36 subject  70000  to  79999\n"
     ]
    },
    {
     "name": "stderr",
     "output_type": "stream",
     "text": [
      " 22%|██▏       | 8/36 [01:15<07:20, 15.72s/it]"
     ]
    },
    {
     "name": "stdout",
     "output_type": "stream",
     "text": [
      "finising batch  8  of  36 number of records 47063\n",
      "starting batch  9  of  36 subject  80000  to  89999\n"
     ]
    },
    {
     "name": "stderr",
     "output_type": "stream",
     "text": [
      " 25%|██▌       | 9/36 [01:26<06:18, 14.00s/it]"
     ]
    },
    {
     "name": "stdout",
     "output_type": "stream",
     "text": [
      "finising batch  9  of  36 number of records 52761\n",
      "starting batch  10  of  36 subject  90000  to  99999\n"
     ]
    },
    {
     "name": "stderr",
     "output_type": "stream",
     "text": [
      " 28%|██▊       | 10/36 [01:44<06:41, 15.46s/it]"
     ]
    },
    {
     "name": "stdout",
     "output_type": "stream",
     "text": [
      "finising batch  10  of  36 number of records 58392\n",
      "starting batch  11  of  36 subject  100000  to  109999\n"
     ]
    },
    {
     "name": "stderr",
     "output_type": "stream",
     "text": [
      " 31%|███       | 11/36 [01:55<05:47, 13.88s/it]"
     ]
    },
    {
     "name": "stdout",
     "output_type": "stream",
     "text": [
      "finising batch  11  of  36 number of records 64017\n",
      "starting batch  12  of  36 subject  110000  to  119999\n"
     ]
    },
    {
     "name": "stderr",
     "output_type": "stream",
     "text": [
      " 33%|███▎      | 12/36 [02:00<04:31, 11.32s/it]"
     ]
    },
    {
     "name": "stdout",
     "output_type": "stream",
     "text": [
      "finising batch  12  of  36 number of records 69721\n",
      "starting batch  13  of  36 subject  120000  to  129999\n"
     ]
    },
    {
     "name": "stderr",
     "output_type": "stream",
     "text": [
      " 36%|███▌      | 13/36 [02:04<03:29,  9.11s/it]"
     ]
    },
    {
     "name": "stdout",
     "output_type": "stream",
     "text": [
      "finising batch  13  of  36 number of records 75318\n",
      "starting batch  14  of  36 subject  130000  to  139999\n"
     ]
    },
    {
     "name": "stderr",
     "output_type": "stream",
     "text": [
      " 39%|███▉      | 14/36 [02:17<03:43, 10.15s/it]"
     ]
    },
    {
     "name": "stdout",
     "output_type": "stream",
     "text": [
      "finising batch  14  of  36 number of records 80817\n",
      "starting batch  15  of  36 subject  140000  to  149999\n"
     ]
    },
    {
     "name": "stderr",
     "output_type": "stream",
     "text": [
      " 42%|████▏     | 15/36 [02:24<03:16,  9.34s/it]"
     ]
    },
    {
     "name": "stdout",
     "output_type": "stream",
     "text": [
      "finising batch  15  of  36 number of records 86332\n",
      "starting batch  16  of  36 subject  150000  to  159999\n"
     ]
    },
    {
     "name": "stderr",
     "output_type": "stream",
     "text": [
      " 44%|████▍     | 16/36 [02:29<02:38,  7.93s/it]"
     ]
    },
    {
     "name": "stdout",
     "output_type": "stream",
     "text": [
      "finising batch  16  of  36 number of records 91681\n",
      "starting batch  17  of  36 subject  160000  to  169999\n"
     ]
    },
    {
     "name": "stderr",
     "output_type": "stream",
     "text": [
      " 47%|████▋     | 17/36 [02:33<02:09,  6.83s/it]"
     ]
    },
    {
     "name": "stdout",
     "output_type": "stream",
     "text": [
      "finising batch  17  of  36 number of records 96949\n",
      "starting batch  18  of  36 subject  170000  to  179999\n"
     ]
    },
    {
     "name": "stderr",
     "output_type": "stream",
     "text": [
      " 50%|█████     | 18/36 [02:37<01:47,  6.00s/it]"
     ]
    },
    {
     "name": "stdout",
     "output_type": "stream",
     "text": [
      "finising batch  18  of  36 number of records 102104\n",
      "starting batch  19  of  36 subject  180000  to  189999\n"
     ]
    },
    {
     "name": "stderr",
     "output_type": "stream",
     "text": [
      " 53%|█████▎    | 19/36 [02:41<01:32,  5.45s/it]"
     ]
    },
    {
     "name": "stdout",
     "output_type": "stream",
     "text": [
      "finising batch  19  of  36 number of records 107281\n",
      "starting batch  20  of  36 subject  190000  to  199999\n"
     ]
    },
    {
     "name": "stderr",
     "output_type": "stream",
     "text": [
      " 56%|█████▌    | 20/36 [02:46<01:21,  5.07s/it]"
     ]
    },
    {
     "name": "stdout",
     "output_type": "stream",
     "text": [
      "finising batch  20  of  36 number of records 112266\n",
      "starting batch  21  of  36 subject  200000  to  209999\n"
     ]
    },
    {
     "name": "stderr",
     "output_type": "stream",
     "text": [
      " 58%|█████▊    | 21/36 [02:50<01:13,  4.87s/it]"
     ]
    },
    {
     "name": "stdout",
     "output_type": "stream",
     "text": [
      "finising batch  21  of  36 number of records 117312\n",
      "starting batch  22  of  36 subject  210000  to  219999\n"
     ]
    },
    {
     "name": "stderr",
     "output_type": "stream",
     "text": [
      " 61%|██████    | 22/36 [02:54<01:05,  4.65s/it]"
     ]
    },
    {
     "name": "stdout",
     "output_type": "stream",
     "text": [
      "finising batch  22  of  36 number of records 122166\n",
      "starting batch  23  of  36 subject  220000  to  229999\n"
     ]
    },
    {
     "name": "stderr",
     "output_type": "stream",
     "text": [
      " 64%|██████▍   | 23/36 [02:58<00:58,  4.48s/it]"
     ]
    },
    {
     "name": "stdout",
     "output_type": "stream",
     "text": [
      "finising batch  23  of  36 number of records 126703\n",
      "starting batch  24  of  36 subject  230000  to  239999\n"
     ]
    },
    {
     "name": "stderr",
     "output_type": "stream",
     "text": [
      " 67%|██████▋   | 24/36 [03:02<00:52,  4.36s/it]"
     ]
    },
    {
     "name": "stdout",
     "output_type": "stream",
     "text": [
      "finising batch  24  of  36 number of records 131016\n",
      "starting batch  25  of  36 subject  240000  to  249999\n"
     ]
    },
    {
     "name": "stderr",
     "output_type": "stream",
     "text": [
      " 69%|██████▉   | 25/36 [03:06<00:47,  4.29s/it]"
     ]
    },
    {
     "name": "stdout",
     "output_type": "stream",
     "text": [
      "finising batch  25  of  36 number of records 135256\n",
      "starting batch  26  of  36 subject  250000  to  259999\n"
     ]
    },
    {
     "name": "stderr",
     "output_type": "stream",
     "text": [
      " 72%|███████▏  | 26/36 [03:11<00:42,  4.27s/it]"
     ]
    },
    {
     "name": "stdout",
     "output_type": "stream",
     "text": [
      "finising batch  26  of  36 number of records 139544\n",
      "starting batch  27  of  36 subject  260000  to  269999\n"
     ]
    },
    {
     "name": "stderr",
     "output_type": "stream",
     "text": [
      " 75%|███████▌  | 27/36 [03:15<00:38,  4.26s/it]"
     ]
    },
    {
     "name": "stdout",
     "output_type": "stream",
     "text": [
      "finising batch  27  of  36 number of records 143697\n",
      "starting batch  28  of  36 subject  270000  to  279999\n"
     ]
    },
    {
     "name": "stderr",
     "output_type": "stream",
     "text": [
      " 78%|███████▊  | 28/36 [03:19<00:33,  4.20s/it]"
     ]
    },
    {
     "name": "stdout",
     "output_type": "stream",
     "text": [
      "finising batch  28  of  36 number of records 147921\n",
      "starting batch  29  of  36 subject  280000  to  289999\n"
     ]
    },
    {
     "name": "stderr",
     "output_type": "stream",
     "text": [
      " 81%|████████  | 29/36 [03:23<00:29,  4.16s/it]"
     ]
    },
    {
     "name": "stdout",
     "output_type": "stream",
     "text": [
      "finising batch  29  of  36 number of records 152091\n",
      "starting batch  30  of  36 subject  290000  to  299999\n"
     ]
    },
    {
     "name": "stderr",
     "output_type": "stream",
     "text": [
      " 83%|████████▎ | 30/36 [03:27<00:24,  4.13s/it]"
     ]
    },
    {
     "name": "stdout",
     "output_type": "stream",
     "text": [
      "finising batch  30  of  36 number of records 156196\n",
      "starting batch  31  of  36 subject  300000  to  309999\n"
     ]
    },
    {
     "name": "stderr",
     "output_type": "stream",
     "text": [
      " 86%|████████▌ | 31/36 [03:37<00:30,  6.02s/it]"
     ]
    },
    {
     "name": "stdout",
     "output_type": "stream",
     "text": [
      "finising batch  31  of  36 number of records 160279\n",
      "starting batch  32  of  36 subject  310000  to  319999\n"
     ]
    },
    {
     "name": "stderr",
     "output_type": "stream",
     "text": [
      " 89%|████████▉ | 32/36 [03:51<00:32,  8.15s/it]"
     ]
    },
    {
     "name": "stdout",
     "output_type": "stream",
     "text": [
      "finising batch  32  of  36 number of records 164288\n",
      "starting batch  33  of  36 subject  320000  to  329999\n"
     ]
    },
    {
     "name": "stderr",
     "output_type": "stream",
     "text": [
      " 92%|█████████▏| 33/36 [03:57<00:22,  7.66s/it]"
     ]
    },
    {
     "name": "stdout",
     "output_type": "stream",
     "text": [
      "finising batch  33  of  36 number of records 168482\n",
      "starting batch  34  of  36 subject  330000  to  339999\n"
     ]
    },
    {
     "name": "stderr",
     "output_type": "stream",
     "text": [
      " 94%|█████████▍| 34/36 [04:03<00:14,  7.14s/it]"
     ]
    },
    {
     "name": "stdout",
     "output_type": "stream",
     "text": [
      "finising batch  34  of  36 number of records 172486\n",
      "starting batch  35  of  36 subject  340000  to  349999\n"
     ]
    },
    {
     "name": "stderr",
     "output_type": "stream",
     "text": [
      " 97%|█████████▋| 35/36 [04:09<00:06,  6.73s/it]"
     ]
    },
    {
     "name": "stdout",
     "output_type": "stream",
     "text": [
      "finising batch  35  of  36 number of records 176427\n",
      "starting batch  36  of  36 subject  350000  to  359999\n"
     ]
    },
    {
     "name": "stderr",
     "output_type": "stream",
     "text": [
      "100%|██████████| 36/36 [04:12<00:00,  7.01s/it]"
     ]
    },
    {
     "name": "stdout",
     "output_type": "stream",
     "text": [
      "finising batch  36  of  36 number of records 177088\n"
     ]
    },
    {
     "name": "stderr",
     "output_type": "stream",
     "text": [
      "\n"
     ]
    }
   ],
   "source": [
    "# Due to memory problem, we will query in batch\n",
    "# We will query 10000 at a time\n",
    "\n",
    "n_per_batch = 10000\n",
    "n_batches = len(pt_list) // n_per_batch + 1\n",
    "\n",
    "condition_df=None\n",
    "\n",
    "for i in tqdm(range(n_batches)):\n",
    "    print(\"starting batch \", i+1, \" of \", n_batches, \"subject \", i*n_per_batch, \" to \", (i+1)*n_per_batch - 1)\n",
    "\n",
    "    sql_query = gen_code.create_combined_conditions_query(diagnosis_dict, pt_list[i*n_per_batch:(i+1)*n_per_batch])\n",
    "\n",
    "    if condition_df is None:\n",
    "        print(\"no exisiting dataframe, creating new one\")\n",
    "        condition_df = pd.read_sql(sql_query, conn)\n",
    "        print(\"finising batch \", i+1, \" of \", n_batches, 'number of records',len(condition_df))\n",
    "    else:\n",
    "        next_condition_df = pd.read_sql(sql_query, conn)\n",
    "        \n",
    "        condition_df = pd.concat([condition_df, next_condition_df])\n",
    "        print(\"finising batch \", i+1, \" of \", n_batches, 'number of records',len(condition_df))\n"
   ]
  },
  {
   "cell_type": "code",
   "execution_count": 6,
   "metadata": {},
   "outputs": [
    {
     "data": {
      "text/html": [
       "<div>\n",
       "<style scoped>\n",
       "    .dataframe tbody tr th:only-of-type {\n",
       "        vertical-align: middle;\n",
       "    }\n",
       "\n",
       "    .dataframe tbody tr th {\n",
       "        vertical-align: top;\n",
       "    }\n",
       "\n",
       "    .dataframe thead th {\n",
       "        text-align: right;\n",
       "    }\n",
       "</style>\n",
       "<table border=\"1\" class=\"dataframe\">\n",
       "  <thead>\n",
       "    <tr style=\"text-align: right;\">\n",
       "      <th></th>\n",
       "      <th>first_dm_date</th>\n",
       "      <th>first_acne_date</th>\n",
       "      <th>first_tachyarrythmia_date</th>\n",
       "      <th>first_palpitation_date</th>\n",
       "      <th>first_af_date</th>\n",
       "      <th>first_bph_date</th>\n",
       "      <th>first_cirrhosis_date</th>\n",
       "      <th>first_hairloss_date</th>\n",
       "      <th>first_hf_date</th>\n",
       "      <th>first_pregnancy_hypertension_date</th>\n",
       "      <th>first_hyperthyroid_date</th>\n",
       "      <th>first_migraine_date</th>\n",
       "      <th>first_ckd_date</th>\n",
       "      <th>first_tremor_date</th>\n",
       "      <th>person_id</th>\n",
       "    </tr>\n",
       "  </thead>\n",
       "  <tbody>\n",
       "    <tr>\n",
       "      <th>0</th>\n",
       "      <td>None</td>\n",
       "      <td>None</td>\n",
       "      <td>None</td>\n",
       "      <td>None</td>\n",
       "      <td>None</td>\n",
       "      <td>None</td>\n",
       "      <td>None</td>\n",
       "      <td>None</td>\n",
       "      <td>2021-01-06</td>\n",
       "      <td>None</td>\n",
       "      <td>None</td>\n",
       "      <td>None</td>\n",
       "      <td>2021-01-06</td>\n",
       "      <td>None</td>\n",
       "      <td>378309</td>\n",
       "    </tr>\n",
       "    <tr>\n",
       "      <th>1</th>\n",
       "      <td>2015-08-14</td>\n",
       "      <td>None</td>\n",
       "      <td>None</td>\n",
       "      <td>None</td>\n",
       "      <td>None</td>\n",
       "      <td>None</td>\n",
       "      <td>None</td>\n",
       "      <td>None</td>\n",
       "      <td>None</td>\n",
       "      <td>None</td>\n",
       "      <td>None</td>\n",
       "      <td>None</td>\n",
       "      <td>None</td>\n",
       "      <td>None</td>\n",
       "      <td>378342</td>\n",
       "    </tr>\n",
       "    <tr>\n",
       "      <th>2</th>\n",
       "      <td>None</td>\n",
       "      <td>2011-04-30</td>\n",
       "      <td>None</td>\n",
       "      <td>None</td>\n",
       "      <td>None</td>\n",
       "      <td>None</td>\n",
       "      <td>None</td>\n",
       "      <td>None</td>\n",
       "      <td>None</td>\n",
       "      <td>None</td>\n",
       "      <td>None</td>\n",
       "      <td>None</td>\n",
       "      <td>None</td>\n",
       "      <td>None</td>\n",
       "      <td>378360</td>\n",
       "    </tr>\n",
       "    <tr>\n",
       "      <th>3</th>\n",
       "      <td>2011-10-07</td>\n",
       "      <td>None</td>\n",
       "      <td>None</td>\n",
       "      <td>None</td>\n",
       "      <td>None</td>\n",
       "      <td>None</td>\n",
       "      <td>None</td>\n",
       "      <td>None</td>\n",
       "      <td>None</td>\n",
       "      <td>None</td>\n",
       "      <td>None</td>\n",
       "      <td>None</td>\n",
       "      <td>None</td>\n",
       "      <td>None</td>\n",
       "      <td>378977</td>\n",
       "    </tr>\n",
       "    <tr>\n",
       "      <th>4</th>\n",
       "      <td>2009-04-07</td>\n",
       "      <td>None</td>\n",
       "      <td>None</td>\n",
       "      <td>None</td>\n",
       "      <td>None</td>\n",
       "      <td>None</td>\n",
       "      <td>None</td>\n",
       "      <td>None</td>\n",
       "      <td>None</td>\n",
       "      <td>None</td>\n",
       "      <td>None</td>\n",
       "      <td>None</td>\n",
       "      <td>None</td>\n",
       "      <td>None</td>\n",
       "      <td>379095</td>\n",
       "    </tr>\n",
       "  </tbody>\n",
       "</table>\n",
       "</div>"
      ],
      "text/plain": [
       "  first_dm_date first_acne_date first_tachyarrythmia_date  \\\n",
       "0          None            None                      None   \n",
       "1    2015-08-14            None                      None   \n",
       "2          None      2011-04-30                      None   \n",
       "3    2011-10-07            None                      None   \n",
       "4    2009-04-07            None                      None   \n",
       "\n",
       "  first_palpitation_date first_af_date first_bph_date first_cirrhosis_date  \\\n",
       "0                   None          None           None                 None   \n",
       "1                   None          None           None                 None   \n",
       "2                   None          None           None                 None   \n",
       "3                   None          None           None                 None   \n",
       "4                   None          None           None                 None   \n",
       "\n",
       "  first_hairloss_date first_hf_date first_pregnancy_hypertension_date  \\\n",
       "0                None    2021-01-06                              None   \n",
       "1                None          None                              None   \n",
       "2                None          None                              None   \n",
       "3                None          None                              None   \n",
       "4                None          None                              None   \n",
       "\n",
       "  first_hyperthyroid_date first_migraine_date first_ckd_date  \\\n",
       "0                    None                None     2021-01-06   \n",
       "1                    None                None           None   \n",
       "2                    None                None           None   \n",
       "3                    None                None           None   \n",
       "4                    None                None           None   \n",
       "\n",
       "  first_tremor_date  person_id  \n",
       "0              None     378309  \n",
       "1              None     378342  \n",
       "2              None     378360  \n",
       "3              None     378977  \n",
       "4              None     379095  "
      ]
     },
     "execution_count": 6,
     "metadata": {},
     "output_type": "execute_result"
    }
   ],
   "source": [
    "condition_df.head()"
   ]
  },
  {
   "cell_type": "code",
   "execution_count": 7,
   "metadata": {},
   "outputs": [],
   "source": [
    "# (\"2858\",\"1495\"),\"Y\",null)) as [K-sparing diuretics]\n",
    "# (\"948\",\"3276\"),\"Y\",null)) as [Calcium Channel Blocker (non-Dihydropyridine)]\n",
    "# (\"236\",\"368\",\"369\",\"1116\",\"2004\",\"2113\",\"2586\",\"3418\",\"2586\"),\"Y\",null)) as [Beta Blocker]\n",
    "# (\"1017\",\"2531\",\"3026\"),\"Y\",null)) as [Alpha Blocker]\n",
    "# (\"496\",\"1069\",\"1538\",\"1778\",\"2631\",\"2652\",\"2654\",\"3371\",\"3372\",\"3373\",\"3718\"),\"Y\",null)) as [ACEI]\n",
    "# (\"1338\",\"3148\"),\"Y\",null)) as [Loop diuretics]\n",
    "# (\"1975\",\"721\"),\"Y\",null)) as [Alpha II Agonist]\n",
    "# (\"488\",\"489\",\"1645\",\"1646\",\"1802\",\"1803\",\"2225\",\"3009\",\"3010\",\"3263\",\"3264\",\"3265\",\"3365\",\"3405\",\"3406\",\"3408\",\"3423\",\"3478\",\"3524\",\"3550\",\"3560\"),\"Y\",null)) as [ARB]\n",
    "\n",
    "with open('drug_dict.json', 'r') as file:\n",
    "    drug_dict = json.load(file)\n",
    "    file.close()"
   ]
  },
  {
   "cell_type": "code",
   "execution_count": 8,
   "metadata": {},
   "outputs": [
    {
     "name": "stderr",
     "output_type": "stream",
     "text": [
      "  0%|          | 0/36 [00:00<?, ?it/s]"
     ]
    },
    {
     "name": "stdout",
     "output_type": "stream",
     "text": [
      "starting batch  1  of  36 subject  0  to  9999\n",
      "no exisiting dataframe, creating new one\n"
     ]
    },
    {
     "name": "stderr",
     "output_type": "stream",
     "text": [
      "  3%|▎         | 1/36 [00:05<03:27,  5.92s/it]"
     ]
    },
    {
     "name": "stdout",
     "output_type": "stream",
     "text": [
      "finising batch  1  of  36 number of records 7126\n",
      "starting batch  2  of  36 subject  10000  to  19999\n"
     ]
    },
    {
     "name": "stderr",
     "output_type": "stream",
     "text": [
      "  6%|▌         | 2/36 [00:11<03:13,  5.69s/it]"
     ]
    },
    {
     "name": "stdout",
     "output_type": "stream",
     "text": [
      "finising batch  2  of  36 number of records 14349\n",
      "starting batch  3  of  36 subject  20000  to  29999\n"
     ]
    },
    {
     "name": "stderr",
     "output_type": "stream",
     "text": [
      "  8%|▊         | 3/36 [00:18<03:20,  6.09s/it]"
     ]
    },
    {
     "name": "stdout",
     "output_type": "stream",
     "text": [
      "finising batch  3  of  36 number of records 21524\n",
      "starting batch  4  of  36 subject  30000  to  39999\n"
     ]
    },
    {
     "name": "stderr",
     "output_type": "stream",
     "text": [
      " 11%|█         | 4/36 [00:24<03:16,  6.14s/it]"
     ]
    },
    {
     "name": "stdout",
     "output_type": "stream",
     "text": [
      "finising batch  4  of  36 number of records 28639\n",
      "starting batch  5  of  36 subject  40000  to  49999\n"
     ]
    },
    {
     "name": "stderr",
     "output_type": "stream",
     "text": [
      " 14%|█▍        | 5/36 [00:29<03:04,  5.95s/it]"
     ]
    },
    {
     "name": "stdout",
     "output_type": "stream",
     "text": [
      "finising batch  5  of  36 number of records 35859\n",
      "starting batch  6  of  36 subject  50000  to  59999\n"
     ]
    },
    {
     "name": "stderr",
     "output_type": "stream",
     "text": [
      " 17%|█▋        | 6/36 [00:35<02:54,  5.83s/it]"
     ]
    },
    {
     "name": "stdout",
     "output_type": "stream",
     "text": [
      "finising batch  6  of  36 number of records 43132\n",
      "starting batch  7  of  36 subject  60000  to  69999\n"
     ]
    },
    {
     "name": "stderr",
     "output_type": "stream",
     "text": [
      " 19%|█▉        | 7/36 [00:41<02:49,  5.83s/it]"
     ]
    },
    {
     "name": "stdout",
     "output_type": "stream",
     "text": [
      "finising batch  7  of  36 number of records 50167\n",
      "starting batch  8  of  36 subject  70000  to  79999\n"
     ]
    },
    {
     "name": "stderr",
     "output_type": "stream",
     "text": [
      " 22%|██▏       | 8/36 [00:46<02:40,  5.74s/it]"
     ]
    },
    {
     "name": "stdout",
     "output_type": "stream",
     "text": [
      "finising batch  8  of  36 number of records 57137\n",
      "starting batch  9  of  36 subject  80000  to  89999\n"
     ]
    },
    {
     "name": "stderr",
     "output_type": "stream",
     "text": [
      " 25%|██▌       | 9/36 [00:51<02:29,  5.55s/it]"
     ]
    },
    {
     "name": "stdout",
     "output_type": "stream",
     "text": [
      "finising batch  9  of  36 number of records 64206\n",
      "starting batch  10  of  36 subject  90000  to  99999\n"
     ]
    },
    {
     "name": "stderr",
     "output_type": "stream",
     "text": [
      " 28%|██▊       | 10/36 [00:57<02:21,  5.44s/it]"
     ]
    },
    {
     "name": "stdout",
     "output_type": "stream",
     "text": [
      "finising batch  10  of  36 number of records 71211\n",
      "starting batch  11  of  36 subject  100000  to  109999\n"
     ]
    },
    {
     "name": "stderr",
     "output_type": "stream",
     "text": [
      " 31%|███       | 11/36 [01:02<02:14,  5.38s/it]"
     ]
    },
    {
     "name": "stdout",
     "output_type": "stream",
     "text": [
      "finising batch  11  of  36 number of records 78259\n",
      "starting batch  12  of  36 subject  110000  to  119999\n"
     ]
    },
    {
     "name": "stderr",
     "output_type": "stream",
     "text": [
      " 33%|███▎      | 12/36 [01:07<02:08,  5.33s/it]"
     ]
    },
    {
     "name": "stdout",
     "output_type": "stream",
     "text": [
      "finising batch  12  of  36 number of records 85307\n",
      "starting batch  13  of  36 subject  120000  to  129999\n"
     ]
    },
    {
     "name": "stderr",
     "output_type": "stream",
     "text": [
      " 36%|███▌      | 13/36 [01:12<02:01,  5.30s/it]"
     ]
    },
    {
     "name": "stdout",
     "output_type": "stream",
     "text": [
      "finising batch  13  of  36 number of records 92287\n",
      "starting batch  14  of  36 subject  130000  to  139999\n"
     ]
    },
    {
     "name": "stderr",
     "output_type": "stream",
     "text": [
      " 39%|███▉      | 14/36 [01:18<01:56,  5.27s/it]"
     ]
    },
    {
     "name": "stdout",
     "output_type": "stream",
     "text": [
      "finising batch  14  of  36 number of records 99300\n",
      "starting batch  15  of  36 subject  140000  to  149999\n"
     ]
    },
    {
     "name": "stderr",
     "output_type": "stream",
     "text": [
      " 42%|████▏     | 15/36 [01:24<01:59,  5.67s/it]"
     ]
    },
    {
     "name": "stdout",
     "output_type": "stream",
     "text": [
      "finising batch  15  of  36 number of records 106211\n",
      "starting batch  16  of  36 subject  150000  to  159999\n"
     ]
    },
    {
     "name": "stderr",
     "output_type": "stream",
     "text": [
      " 44%|████▍     | 16/36 [01:29<01:51,  5.56s/it]"
     ]
    },
    {
     "name": "stdout",
     "output_type": "stream",
     "text": [
      "finising batch  16  of  36 number of records 112917\n",
      "starting batch  17  of  36 subject  160000  to  169999\n"
     ]
    },
    {
     "name": "stderr",
     "output_type": "stream",
     "text": [
      " 47%|████▋     | 17/36 [01:35<01:44,  5.49s/it]"
     ]
    },
    {
     "name": "stdout",
     "output_type": "stream",
     "text": [
      "finising batch  17  of  36 number of records 119623\n",
      "starting batch  18  of  36 subject  170000  to  179999\n"
     ]
    },
    {
     "name": "stderr",
     "output_type": "stream",
     "text": [
      " 50%|█████     | 18/36 [01:40<01:37,  5.40s/it]"
     ]
    },
    {
     "name": "stdout",
     "output_type": "stream",
     "text": [
      "finising batch  18  of  36 number of records 126343\n",
      "starting batch  19  of  36 subject  180000  to  189999\n"
     ]
    },
    {
     "name": "stderr",
     "output_type": "stream",
     "text": [
      " 53%|█████▎    | 19/36 [01:45<01:29,  5.25s/it]"
     ]
    },
    {
     "name": "stdout",
     "output_type": "stream",
     "text": [
      "finising batch  19  of  36 number of records 132877\n",
      "starting batch  20  of  36 subject  190000  to  199999\n"
     ]
    },
    {
     "name": "stderr",
     "output_type": "stream",
     "text": [
      " 56%|█████▌    | 20/36 [01:50<01:22,  5.14s/it]"
     ]
    },
    {
     "name": "stdout",
     "output_type": "stream",
     "text": [
      "finising batch  20  of  36 number of records 139392\n",
      "starting batch  21  of  36 subject  200000  to  209999\n"
     ]
    },
    {
     "name": "stderr",
     "output_type": "stream",
     "text": [
      " 58%|█████▊    | 21/36 [01:55<01:16,  5.10s/it]"
     ]
    },
    {
     "name": "stdout",
     "output_type": "stream",
     "text": [
      "finising batch  21  of  36 number of records 145889\n",
      "starting batch  22  of  36 subject  210000  to  219999\n"
     ]
    },
    {
     "name": "stderr",
     "output_type": "stream",
     "text": [
      " 61%|██████    | 22/36 [02:00<01:10,  5.05s/it]"
     ]
    },
    {
     "name": "stdout",
     "output_type": "stream",
     "text": [
      "finising batch  22  of  36 number of records 152224\n",
      "starting batch  23  of  36 subject  220000  to  229999\n"
     ]
    },
    {
     "name": "stderr",
     "output_type": "stream",
     "text": [
      " 64%|██████▍   | 23/36 [02:05<01:05,  5.02s/it]"
     ]
    },
    {
     "name": "stdout",
     "output_type": "stream",
     "text": [
      "finising batch  23  of  36 number of records 158099\n",
      "starting batch  24  of  36 subject  230000  to  239999\n"
     ]
    },
    {
     "name": "stderr",
     "output_type": "stream",
     "text": [
      " 67%|██████▋   | 24/36 [02:10<01:00,  5.01s/it]"
     ]
    },
    {
     "name": "stdout",
     "output_type": "stream",
     "text": [
      "finising batch  24  of  36 number of records 163543\n",
      "starting batch  25  of  36 subject  240000  to  249999\n"
     ]
    },
    {
     "name": "stderr",
     "output_type": "stream",
     "text": [
      " 69%|██████▉   | 25/36 [02:15<00:55,  5.08s/it]"
     ]
    },
    {
     "name": "stdout",
     "output_type": "stream",
     "text": [
      "finising batch  25  of  36 number of records 168891\n",
      "starting batch  26  of  36 subject  250000  to  259999\n"
     ]
    },
    {
     "name": "stderr",
     "output_type": "stream",
     "text": [
      " 72%|███████▏  | 26/36 [02:20<00:51,  5.12s/it]"
     ]
    },
    {
     "name": "stdout",
     "output_type": "stream",
     "text": [
      "finising batch  26  of  36 number of records 174262\n",
      "starting batch  27  of  36 subject  260000  to  269999\n"
     ]
    },
    {
     "name": "stderr",
     "output_type": "stream",
     "text": [
      " 75%|███████▌  | 27/36 [02:25<00:46,  5.16s/it]"
     ]
    },
    {
     "name": "stdout",
     "output_type": "stream",
     "text": [
      "finising batch  27  of  36 number of records 179440\n",
      "starting batch  28  of  36 subject  270000  to  279999\n"
     ]
    },
    {
     "name": "stderr",
     "output_type": "stream",
     "text": [
      " 78%|███████▊  | 28/36 [02:31<00:41,  5.23s/it]"
     ]
    },
    {
     "name": "stdout",
     "output_type": "stream",
     "text": [
      "finising batch  28  of  36 number of records 184532\n",
      "starting batch  29  of  36 subject  280000  to  289999\n"
     ]
    },
    {
     "name": "stderr",
     "output_type": "stream",
     "text": [
      " 81%|████████  | 29/36 [02:38<00:40,  5.74s/it]"
     ]
    },
    {
     "name": "stdout",
     "output_type": "stream",
     "text": [
      "finising batch  29  of  36 number of records 189737\n",
      "starting batch  30  of  36 subject  290000  to  299999\n"
     ]
    },
    {
     "name": "stderr",
     "output_type": "stream",
     "text": [
      " 83%|████████▎ | 30/36 [02:46<00:38,  6.45s/it]"
     ]
    },
    {
     "name": "stdout",
     "output_type": "stream",
     "text": [
      "finising batch  30  of  36 number of records 194769\n",
      "starting batch  31  of  36 subject  300000  to  309999\n"
     ]
    },
    {
     "name": "stderr",
     "output_type": "stream",
     "text": [
      " 86%|████████▌ | 31/36 [02:53<00:33,  6.62s/it]"
     ]
    },
    {
     "name": "stdout",
     "output_type": "stream",
     "text": [
      "finising batch  31  of  36 number of records 199760\n",
      "starting batch  32  of  36 subject  310000  to  319999\n"
     ]
    },
    {
     "name": "stderr",
     "output_type": "stream",
     "text": [
      " 89%|████████▉ | 32/36 [02:58<00:24,  6.18s/it]"
     ]
    },
    {
     "name": "stdout",
     "output_type": "stream",
     "text": [
      "finising batch  32  of  36 number of records 204576\n",
      "starting batch  33  of  36 subject  320000  to  329999\n"
     ]
    },
    {
     "name": "stderr",
     "output_type": "stream",
     "text": [
      " 92%|█████████▏| 33/36 [03:03<00:17,  5.88s/it]"
     ]
    },
    {
     "name": "stdout",
     "output_type": "stream",
     "text": [
      "finising batch  33  of  36 number of records 209474\n",
      "starting batch  34  of  36 subject  330000  to  339999\n"
     ]
    },
    {
     "name": "stderr",
     "output_type": "stream",
     "text": [
      " 94%|█████████▍| 34/36 [03:08<00:11,  5.72s/it]"
     ]
    },
    {
     "name": "stdout",
     "output_type": "stream",
     "text": [
      "finising batch  34  of  36 number of records 214078\n",
      "starting batch  35  of  36 subject  340000  to  349999\n"
     ]
    },
    {
     "name": "stderr",
     "output_type": "stream",
     "text": [
      " 97%|█████████▋| 35/36 [03:14<00:05,  5.61s/it]"
     ]
    },
    {
     "name": "stdout",
     "output_type": "stream",
     "text": [
      "finising batch  35  of  36 number of records 218446\n",
      "starting batch  36  of  36 subject  350000  to  359999\n"
     ]
    },
    {
     "name": "stderr",
     "output_type": "stream",
     "text": [
      "100%|██████████| 36/36 [03:17<00:00,  5.48s/it]"
     ]
    },
    {
     "name": "stdout",
     "output_type": "stream",
     "text": [
      "finising batch  36  of  36 number of records 219498\n"
     ]
    },
    {
     "name": "stderr",
     "output_type": "stream",
     "text": [
      "\n"
     ]
    }
   ],
   "source": [
    "n_per_batch = 10000\n",
    "n_batches = len(pt_list) // n_per_batch + 1\n",
    "\n",
    "drug_df=None\n",
    "\n",
    "for i in tqdm(range(n_batches)):\n",
    "    print(\"starting batch \", i+1, \" of \", n_batches, \"subject \", i*n_per_batch, \" to \", (i+1)*n_per_batch - 1)\n",
    "\n",
    "    sql_query = gen_code.create_combined_drugs_query(drug_dict, pt_list[i*n_per_batch:(i+1)*n_per_batch])\n",
    "\n",
    "    if drug_df is None:\n",
    "        print(\"no exisiting dataframe, creating new one\")\n",
    "        drug_df = pd.read_sql(sql_query, conn)\n",
    "        print(\"finising batch \", i+1, \" of \", n_batches, 'number of records',len(drug_df))\n",
    "    else:\n",
    "        next_drug_df = pd.read_sql(sql_query, conn)\n",
    "        \n",
    "        drug_df = pd.concat([drug_df, next_drug_df])\n",
    "        print(\"finising batch \", i+1, \" of \", n_batches, 'number of records',len(drug_df))"
   ]
  },
  {
   "cell_type": "code",
   "execution_count": 9,
   "metadata": {},
   "outputs": [
    {
     "name": "stdout",
     "output_type": "stream",
     "text": [
      "number of records in condition_df 177088\n",
      "number of records in drug_df 219498\n"
     ]
    }
   ],
   "source": [
    "print(\"number of records in condition_df\", len(condition_df))\n",
    "print(\"number of records in drug_df\", len(drug_df))"
   ]
  },
  {
   "cell_type": "code",
   "execution_count": 10,
   "metadata": {},
   "outputs": [],
   "source": [
    "pt_df = pt[['person_id', 'age_at_first_drug', 'age_at_first_diag', 'criteria']]"
   ]
  },
  {
   "cell_type": "code",
   "execution_count": 11,
   "metadata": {},
   "outputs": [],
   "source": [
    "pt_df = pd.merge(pt_df, drug_df, on='person_id', how='left')\n",
    "pt_df = pd.merge(pt_df, condition_df, on='person_id', how='left')"
   ]
  },
  {
   "cell_type": "code",
   "execution_count": 12,
   "metadata": {},
   "outputs": [],
   "source": [
    "def create_exclusion_criteria(df):\n",
    "    new_df = df[['person_id']]\n",
    "\n",
    "    new_df['hyperthyroid_bb'] = (~df['first_hyperthyroid_date'].isna() & ~df['first_bb_date'].isna()).astype(int)\n",
    "    new_df['af_bb'] = (~df['first_af_date'].isna() & ~df['first_bb_date'].isna()).astype(int)\n",
    "    \n",
    "    new_df['hf_k_sparing'] = (~df['first_hf_date'].isna() & ~df['first_k_sparing_date'].isna()).astype(int)\n",
    "    new_df['acne_k_sparing'] = (~df['first_acne_date'].isna() & ~df['first_acne_date'].isna()).astype(int)\n",
    "    new_df['hair_k_sparing'] = (~df['first_hairloss_date'].isna() & ~df['first_k_sparing_date'].isna()).astype(int)\n",
    "    new_df['cirr_k_sparing'] = (~df['first_cirrhosis_date'].isna() & ~df['first_k_sparing_date'].isna()).astype(int)\n",
    "\n",
    "    new_df['hf_loop'] = (~df['first_hf_date'].isna() & ~df['first_loop_date'].isna()).astype(int)\n",
    "\n",
    "    new_df['bph_alpha'] = (~df['first_bph_date'].isna() & ~df['first_alpha_date'].isna()).astype(int)\n",
    "\n",
    "    new_df['hf_acei'] = (~df['first_hf_date'].isna() & ~df['first_acei_date'].isna()).astype(int)\n",
    "    new_df['hf_arb'] = (~df['first_hf_date'].isna() & ~df['first_arb_date'].isna()).astype(int)\n",
    "    new_df['arrythmia_nondhp'] = (~df['first_tachyarrythmia_date'].isna() & ~df['first_nonDHP_date'].isna()).astype(int)\n",
    "    \n",
    "    new_df['preg_alpha2'] = (~df['first_pregnancy_hypertension_date'].isna() & ~df['first_alpha2_date'].isna()).astype(int)\n",
    "    \n",
    "    # new_df['migraine_bb'] = (~df['first_migraine_date'].isna() & ~df['first_bb_date'].isna()).astype(int)\n",
    "    # new_df['cirr_bb'] = (~df['first_cirrhosis_date'].isna() & ~df['first_bb_date'].isna()).astype(int)\n",
    "    # new_df['ckd_acei'] = (~df['first_ckd_date'].isna() & ~df['first_acei_date'].isna()).astype(int)\n",
    "    # new_df['ckd_arb'] = (~df['first_ckd_date'].isna() & ~df['first_arb_date'].isna()).astype(int)\n",
    "    \n",
    "    # new_df['et_bb'] = (~df['first_tremor_date'].isna() & ~df['first_arb_date'].isna()).astype(int)\n",
    "    new_df['summary'] = new_df.drop('person_id', axis=1).sum(axis=1)\n",
    "\n",
    "    return new_df"
   ]
  },
  {
   "cell_type": "code",
   "execution_count": 13,
   "metadata": {},
   "outputs": [],
   "source": [
    "drug_only = pt_df[pt_df['criteria'] == 'drug']"
   ]
  },
  {
   "cell_type": "code",
   "execution_count": 14,
   "metadata": {},
   "outputs": [
    {
     "name": "stderr",
     "output_type": "stream",
     "text": [
      "C:\\Users\\krittaphas.chi\\AppData\\Local\\Temp\\ipykernel_10472\\3625964541.py:4: SettingWithCopyWarning: \n",
      "A value is trying to be set on a copy of a slice from a DataFrame.\n",
      "Try using .loc[row_indexer,col_indexer] = value instead\n",
      "\n",
      "See the caveats in the documentation: https://pandas.pydata.org/pandas-docs/stable/user_guide/indexing.html#returning-a-view-versus-a-copy\n",
      "  new_df['hyperthyroid_bb'] = (~df['first_hyperthyroid_date'].isna() & ~df['first_bb_date'].isna()).astype(int)\n",
      "C:\\Users\\krittaphas.chi\\AppData\\Local\\Temp\\ipykernel_10472\\3625964541.py:5: SettingWithCopyWarning: \n",
      "A value is trying to be set on a copy of a slice from a DataFrame.\n",
      "Try using .loc[row_indexer,col_indexer] = value instead\n",
      "\n",
      "See the caveats in the documentation: https://pandas.pydata.org/pandas-docs/stable/user_guide/indexing.html#returning-a-view-versus-a-copy\n",
      "  new_df['af_bb'] = (~df['first_af_date'].isna() & ~df['first_bb_date'].isna()).astype(int)\n",
      "C:\\Users\\krittaphas.chi\\AppData\\Local\\Temp\\ipykernel_10472\\3625964541.py:7: SettingWithCopyWarning: \n",
      "A value is trying to be set on a copy of a slice from a DataFrame.\n",
      "Try using .loc[row_indexer,col_indexer] = value instead\n",
      "\n",
      "See the caveats in the documentation: https://pandas.pydata.org/pandas-docs/stable/user_guide/indexing.html#returning-a-view-versus-a-copy\n",
      "  new_df['hf_k_sparing'] = (~df['first_hf_date'].isna() & ~df['first_k_sparing_date'].isna()).astype(int)\n",
      "C:\\Users\\krittaphas.chi\\AppData\\Local\\Temp\\ipykernel_10472\\3625964541.py:8: SettingWithCopyWarning: \n",
      "A value is trying to be set on a copy of a slice from a DataFrame.\n",
      "Try using .loc[row_indexer,col_indexer] = value instead\n",
      "\n",
      "See the caveats in the documentation: https://pandas.pydata.org/pandas-docs/stable/user_guide/indexing.html#returning-a-view-versus-a-copy\n",
      "  new_df['acne_k_sparing'] = (~df['first_acne_date'].isna() & ~df['first_acne_date'].isna()).astype(int)\n",
      "C:\\Users\\krittaphas.chi\\AppData\\Local\\Temp\\ipykernel_10472\\3625964541.py:9: SettingWithCopyWarning: \n",
      "A value is trying to be set on a copy of a slice from a DataFrame.\n",
      "Try using .loc[row_indexer,col_indexer] = value instead\n",
      "\n",
      "See the caveats in the documentation: https://pandas.pydata.org/pandas-docs/stable/user_guide/indexing.html#returning-a-view-versus-a-copy\n",
      "  new_df['hair_k_sparing'] = (~df['first_hairloss_date'].isna() & ~df['first_k_sparing_date'].isna()).astype(int)\n",
      "C:\\Users\\krittaphas.chi\\AppData\\Local\\Temp\\ipykernel_10472\\3625964541.py:10: SettingWithCopyWarning: \n",
      "A value is trying to be set on a copy of a slice from a DataFrame.\n",
      "Try using .loc[row_indexer,col_indexer] = value instead\n",
      "\n",
      "See the caveats in the documentation: https://pandas.pydata.org/pandas-docs/stable/user_guide/indexing.html#returning-a-view-versus-a-copy\n",
      "  new_df['cirr_k_sparing'] = (~df['first_cirrhosis_date'].isna() & ~df['first_k_sparing_date'].isna()).astype(int)\n",
      "C:\\Users\\krittaphas.chi\\AppData\\Local\\Temp\\ipykernel_10472\\3625964541.py:12: SettingWithCopyWarning: \n",
      "A value is trying to be set on a copy of a slice from a DataFrame.\n",
      "Try using .loc[row_indexer,col_indexer] = value instead\n",
      "\n",
      "See the caveats in the documentation: https://pandas.pydata.org/pandas-docs/stable/user_guide/indexing.html#returning-a-view-versus-a-copy\n",
      "  new_df['hf_loop'] = (~df['first_hf_date'].isna() & ~df['first_loop_date'].isna()).astype(int)\n",
      "C:\\Users\\krittaphas.chi\\AppData\\Local\\Temp\\ipykernel_10472\\3625964541.py:14: SettingWithCopyWarning: \n",
      "A value is trying to be set on a copy of a slice from a DataFrame.\n",
      "Try using .loc[row_indexer,col_indexer] = value instead\n",
      "\n",
      "See the caveats in the documentation: https://pandas.pydata.org/pandas-docs/stable/user_guide/indexing.html#returning-a-view-versus-a-copy\n",
      "  new_df['bph_alpha'] = (~df['first_bph_date'].isna() & ~df['first_alpha_date'].isna()).astype(int)\n",
      "C:\\Users\\krittaphas.chi\\AppData\\Local\\Temp\\ipykernel_10472\\3625964541.py:16: SettingWithCopyWarning: \n",
      "A value is trying to be set on a copy of a slice from a DataFrame.\n",
      "Try using .loc[row_indexer,col_indexer] = value instead\n",
      "\n",
      "See the caveats in the documentation: https://pandas.pydata.org/pandas-docs/stable/user_guide/indexing.html#returning-a-view-versus-a-copy\n",
      "  new_df['hf_acei'] = (~df['first_hf_date'].isna() & ~df['first_acei_date'].isna()).astype(int)\n",
      "C:\\Users\\krittaphas.chi\\AppData\\Local\\Temp\\ipykernel_10472\\3625964541.py:17: SettingWithCopyWarning: \n",
      "A value is trying to be set on a copy of a slice from a DataFrame.\n",
      "Try using .loc[row_indexer,col_indexer] = value instead\n",
      "\n",
      "See the caveats in the documentation: https://pandas.pydata.org/pandas-docs/stable/user_guide/indexing.html#returning-a-view-versus-a-copy\n",
      "  new_df['hf_arb'] = (~df['first_hf_date'].isna() & ~df['first_arb_date'].isna()).astype(int)\n",
      "C:\\Users\\krittaphas.chi\\AppData\\Local\\Temp\\ipykernel_10472\\3625964541.py:18: SettingWithCopyWarning: \n",
      "A value is trying to be set on a copy of a slice from a DataFrame.\n",
      "Try using .loc[row_indexer,col_indexer] = value instead\n",
      "\n",
      "See the caveats in the documentation: https://pandas.pydata.org/pandas-docs/stable/user_guide/indexing.html#returning-a-view-versus-a-copy\n",
      "  new_df['arrythmia_nondhp'] = (~df['first_tachyarrythmia_date'].isna() & ~df['first_nonDHP_date'].isna()).astype(int)\n",
      "C:\\Users\\krittaphas.chi\\AppData\\Local\\Temp\\ipykernel_10472\\3625964541.py:20: SettingWithCopyWarning: \n",
      "A value is trying to be set on a copy of a slice from a DataFrame.\n",
      "Try using .loc[row_indexer,col_indexer] = value instead\n",
      "\n",
      "See the caveats in the documentation: https://pandas.pydata.org/pandas-docs/stable/user_guide/indexing.html#returning-a-view-versus-a-copy\n",
      "  new_df['preg_alpha2'] = (~df['first_pregnancy_hypertension_date'].isna() & ~df['first_alpha2_date'].isna()).astype(int)\n",
      "C:\\Users\\krittaphas.chi\\AppData\\Local\\Temp\\ipykernel_10472\\3625964541.py:28: SettingWithCopyWarning: \n",
      "A value is trying to be set on a copy of a slice from a DataFrame.\n",
      "Try using .loc[row_indexer,col_indexer] = value instead\n",
      "\n",
      "See the caveats in the documentation: https://pandas.pydata.org/pandas-docs/stable/user_guide/indexing.html#returning-a-view-versus-a-copy\n",
      "  new_df['summary'] = new_df.drop('person_id', axis=1).sum(axis=1)\n"
     ]
    }
   ],
   "source": [
    "exclusion_df = create_exclusion_criteria(drug_only)"
   ]
  },
  {
   "cell_type": "code",
   "execution_count": 15,
   "metadata": {},
   "outputs": [],
   "source": [
    "exclusion_df.to_csv('..\\..\\data\\exclusion_drug_only_28apr24_edited.csv', index=False)"
   ]
  }
 ],
 "metadata": {
  "kernelspec": {
   "display_name": "Python 3",
   "language": "python",
   "name": "python3"
  },
  "language_info": {
   "codemirror_mode": {
    "name": "ipython",
    "version": 3
   },
   "file_extension": ".py",
   "mimetype": "text/x-python",
   "name": "python",
   "nbconvert_exporter": "python",
   "pygments_lexer": "ipython3",
   "version": "3.11.7"
  }
 },
 "nbformat": 4,
 "nbformat_minor": 2
}
