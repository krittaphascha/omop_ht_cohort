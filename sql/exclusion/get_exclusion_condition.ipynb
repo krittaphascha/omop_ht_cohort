{
 "cells": [
  {
   "cell_type": "code",
   "execution_count": 1,
   "metadata": {},
   "outputs": [
    {
     "name": "stderr",
     "output_type": "stream",
     "text": [
      "C:\\Users\\krittaphas.chi\\AppData\\Local\\Temp\\ipykernel_12528\\623310641.py:1: DeprecationWarning: \n",
      "Pyarrow will become a required dependency of pandas in the next major release of pandas (pandas 3.0),\n",
      "(to allow more performant data types, such as the Arrow string type, and better interoperability with other libraries)\n",
      "but was not found to be installed on your system.\n",
      "If this would cause problems for you,\n",
      "please provide us feedback at https://github.com/pandas-dev/pandas/issues/54466\n",
      "        \n",
      "  import pandas as pd\n"
     ]
    }
   ],
   "source": [
    "import pandas as pd\n",
    "import sqlalchemy as sal\n",
    "from dotenv import load_dotenv\n",
    "import os\n",
    "from tqdm import tqdm\n",
    "import json\n",
    "load_dotenv()\n",
    "\n",
    "# Create a connection to the database\n",
    "server_database = os.getenv(\"SERVER_DATABASE\")\n",
    "engine = sal.create_engine(f'mssql+pyodbc://@{server_database}?trusted_connection=yes&driver=SQL+Server')\n",
    "conn = engine.connect()"
   ]
  },
  {
   "cell_type": "code",
   "execution_count": 2,
   "metadata": {},
   "outputs": [],
   "source": [
    "import generate_drug_diag_code as gen_code"
   ]
  },
  {
   "cell_type": "code",
   "execution_count": 3,
   "metadata": {},
   "outputs": [
    {
     "name": "stdout",
     "output_type": "stream",
     "text": [
      "361529\n"
     ]
    }
   ],
   "source": [
    "# get patients data\n",
    "pt = pd.read_csv('..\\..\\data\\include_pt_28apr24.csv')\n",
    "pt_list = pt['person_id']\n",
    "print(len(pt_list))"
   ]
  },
  {
   "cell_type": "code",
   "execution_count": 6,
   "metadata": {},
   "outputs": [],
   "source": [
    "with open('diagnosis_dict.json', 'r') as file:\n",
    "    diagnosis_dict = json.load(file)\n",
    "    file.close()"
   ]
  },
  {
   "cell_type": "code",
   "execution_count": 7,
   "metadata": {},
   "outputs": [
    {
     "name": "stderr",
     "output_type": "stream",
     "text": [
      "  0%|          | 0/37 [00:00<?, ?it/s]"
     ]
    },
    {
     "name": "stdout",
     "output_type": "stream",
     "text": [
      "starting batch  1  of  37 subject  0  to  9999\n",
      "no exisiting dataframe, creating new one\n"
     ]
    },
    {
     "name": "stderr",
     "output_type": "stream",
     "text": [
      "  3%|▎         | 1/37 [00:03<01:55,  3.21s/it]"
     ]
    },
    {
     "name": "stdout",
     "output_type": "stream",
     "text": [
      "finising batch  1  of  37 number of records 5932\n",
      "starting batch  2  of  37 subject  10000  to  19999\n"
     ]
    },
    {
     "name": "stderr",
     "output_type": "stream",
     "text": [
      "  5%|▌         | 2/37 [00:06<02:01,  3.48s/it]"
     ]
    },
    {
     "name": "stdout",
     "output_type": "stream",
     "text": [
      "finising batch  2  of  37 number of records 11925\n",
      "starting batch  3  of  37 subject  20000  to  29999\n"
     ]
    },
    {
     "name": "stderr",
     "output_type": "stream",
     "text": [
      "  8%|▊         | 3/37 [00:09<01:49,  3.22s/it]"
     ]
    },
    {
     "name": "stdout",
     "output_type": "stream",
     "text": [
      "finising batch  3  of  37 number of records 17837\n",
      "starting batch  4  of  37 subject  30000  to  39999\n"
     ]
    },
    {
     "name": "stderr",
     "output_type": "stream",
     "text": [
      " 11%|█         | 4/37 [00:12<01:46,  3.21s/it]"
     ]
    },
    {
     "name": "stdout",
     "output_type": "stream",
     "text": [
      "finising batch  4  of  37 number of records 23584\n",
      "starting batch  5  of  37 subject  40000  to  49999\n"
     ]
    },
    {
     "name": "stderr",
     "output_type": "stream",
     "text": [
      " 14%|█▎        | 5/37 [00:15<01:39,  3.10s/it]"
     ]
    },
    {
     "name": "stdout",
     "output_type": "stream",
     "text": [
      "finising batch  5  of  37 number of records 29511\n",
      "starting batch  6  of  37 subject  50000  to  59999\n"
     ]
    },
    {
     "name": "stderr",
     "output_type": "stream",
     "text": [
      " 16%|█▌        | 6/37 [00:18<01:33,  3.02s/it]"
     ]
    },
    {
     "name": "stdout",
     "output_type": "stream",
     "text": [
      "finising batch  6  of  37 number of records 35520\n",
      "starting batch  7  of  37 subject  60000  to  69999\n"
     ]
    },
    {
     "name": "stderr",
     "output_type": "stream",
     "text": [
      " 19%|█▉        | 7/37 [00:21<01:30,  3.03s/it]"
     ]
    },
    {
     "name": "stdout",
     "output_type": "stream",
     "text": [
      "finising batch  7  of  37 number of records 41283\n",
      "starting batch  8  of  37 subject  70000  to  79999\n"
     ]
    },
    {
     "name": "stderr",
     "output_type": "stream",
     "text": [
      " 22%|██▏       | 8/37 [00:24<01:28,  3.05s/it]"
     ]
    },
    {
     "name": "stdout",
     "output_type": "stream",
     "text": [
      "finising batch  8  of  37 number of records 46867\n",
      "starting batch  9  of  37 subject  80000  to  89999\n"
     ]
    },
    {
     "name": "stderr",
     "output_type": "stream",
     "text": [
      " 24%|██▍       | 9/37 [00:27<01:25,  3.04s/it]"
     ]
    },
    {
     "name": "stdout",
     "output_type": "stream",
     "text": [
      "finising batch  9  of  37 number of records 52532\n",
      "starting batch  10  of  37 subject  90000  to  99999\n"
     ]
    },
    {
     "name": "stderr",
     "output_type": "stream",
     "text": [
      " 27%|██▋       | 10/37 [00:32<01:31,  3.39s/it]"
     ]
    },
    {
     "name": "stdout",
     "output_type": "stream",
     "text": [
      "finising batch  10  of  37 number of records 58120\n",
      "starting batch  11  of  37 subject  100000  to  109999\n"
     ]
    },
    {
     "name": "stderr",
     "output_type": "stream",
     "text": [
      " 30%|██▉       | 11/37 [00:35<01:28,  3.39s/it]"
     ]
    },
    {
     "name": "stdout",
     "output_type": "stream",
     "text": [
      "finising batch  11  of  37 number of records 63774\n",
      "starting batch  12  of  37 subject  110000  to  119999\n"
     ]
    },
    {
     "name": "stderr",
     "output_type": "stream",
     "text": [
      " 32%|███▏      | 12/37 [00:38<01:20,  3.23s/it]"
     ]
    },
    {
     "name": "stdout",
     "output_type": "stream",
     "text": [
      "finising batch  12  of  37 number of records 69440\n",
      "starting batch  13  of  37 subject  120000  to  129999\n"
     ]
    },
    {
     "name": "stderr",
     "output_type": "stream",
     "text": [
      " 35%|███▌      | 13/37 [00:41<01:18,  3.29s/it]"
     ]
    },
    {
     "name": "stdout",
     "output_type": "stream",
     "text": [
      "finising batch  13  of  37 number of records 75006\n",
      "starting batch  14  of  37 subject  130000  to  139999\n"
     ]
    },
    {
     "name": "stderr",
     "output_type": "stream",
     "text": [
      " 38%|███▊      | 14/37 [00:44<01:14,  3.22s/it]"
     ]
    },
    {
     "name": "stdout",
     "output_type": "stream",
     "text": [
      "finising batch  14  of  37 number of records 80490\n",
      "starting batch  15  of  37 subject  140000  to  149999\n"
     ]
    },
    {
     "name": "stderr",
     "output_type": "stream",
     "text": [
      " 41%|████      | 15/37 [00:47<01:09,  3.16s/it]"
     ]
    },
    {
     "name": "stdout",
     "output_type": "stream",
     "text": [
      "finising batch  15  of  37 number of records 85985\n",
      "starting batch  16  of  37 subject  150000  to  159999\n"
     ]
    },
    {
     "name": "stderr",
     "output_type": "stream",
     "text": [
      " 43%|████▎     | 16/37 [00:50<01:04,  3.05s/it]"
     ]
    },
    {
     "name": "stdout",
     "output_type": "stream",
     "text": [
      "finising batch  16  of  37 number of records 91314\n",
      "starting batch  17  of  37 subject  160000  to  169999\n"
     ]
    },
    {
     "name": "stderr",
     "output_type": "stream",
     "text": [
      " 46%|████▌     | 17/37 [00:54<01:05,  3.30s/it]"
     ]
    },
    {
     "name": "stdout",
     "output_type": "stream",
     "text": [
      "finising batch  17  of  37 number of records 96577\n",
      "starting batch  18  of  37 subject  170000  to  179999\n"
     ]
    },
    {
     "name": "stderr",
     "output_type": "stream",
     "text": [
      " 49%|████▊     | 18/37 [01:03<01:35,  5.04s/it]"
     ]
    },
    {
     "name": "stdout",
     "output_type": "stream",
     "text": [
      "finising batch  18  of  37 number of records 101732\n",
      "starting batch  19  of  37 subject  180000  to  189999\n"
     ]
    },
    {
     "name": "stderr",
     "output_type": "stream",
     "text": [
      " 51%|█████▏    | 19/37 [01:10<01:41,  5.64s/it]"
     ]
    },
    {
     "name": "stdout",
     "output_type": "stream",
     "text": [
      "finising batch  19  of  37 number of records 106908\n",
      "starting batch  20  of  37 subject  190000  to  199999\n"
     ]
    },
    {
     "name": "stderr",
     "output_type": "stream",
     "text": [
      " 54%|█████▍    | 20/37 [01:18<01:47,  6.32s/it]"
     ]
    },
    {
     "name": "stdout",
     "output_type": "stream",
     "text": [
      "finising batch  20  of  37 number of records 111928\n",
      "starting batch  21  of  37 subject  200000  to  209999\n"
     ]
    },
    {
     "name": "stderr",
     "output_type": "stream",
     "text": [
      " 57%|█████▋    | 21/37 [01:25<01:41,  6.36s/it]"
     ]
    },
    {
     "name": "stdout",
     "output_type": "stream",
     "text": [
      "finising batch  21  of  37 number of records 116887\n",
      "starting batch  22  of  37 subject  210000  to  219999\n"
     ]
    },
    {
     "name": "stderr",
     "output_type": "stream",
     "text": [
      " 59%|█████▉    | 22/37 [01:31<01:33,  6.26s/it]"
     ]
    },
    {
     "name": "stdout",
     "output_type": "stream",
     "text": [
      "finising batch  22  of  37 number of records 121765\n",
      "starting batch  23  of  37 subject  220000  to  229999\n"
     ]
    },
    {
     "name": "stderr",
     "output_type": "stream",
     "text": [
      " 62%|██████▏   | 23/37 [01:36<01:24,  6.06s/it]"
     ]
    },
    {
     "name": "stdout",
     "output_type": "stream",
     "text": [
      "finising batch  23  of  37 number of records 126423\n",
      "starting batch  24  of  37 subject  230000  to  239999\n"
     ]
    },
    {
     "name": "stderr",
     "output_type": "stream",
     "text": [
      " 65%|██████▍   | 24/37 [01:42<01:16,  5.87s/it]"
     ]
    },
    {
     "name": "stdout",
     "output_type": "stream",
     "text": [
      "finising batch  24  of  37 number of records 130702\n",
      "starting batch  25  of  37 subject  240000  to  249999\n"
     ]
    },
    {
     "name": "stderr",
     "output_type": "stream",
     "text": [
      " 68%|██████▊   | 25/37 [01:46<01:06,  5.56s/it]"
     ]
    },
    {
     "name": "stdout",
     "output_type": "stream",
     "text": [
      "finising batch  25  of  37 number of records 134925\n",
      "starting batch  26  of  37 subject  250000  to  259999\n"
     ]
    },
    {
     "name": "stderr",
     "output_type": "stream",
     "text": [
      " 70%|███████   | 26/37 [01:51<00:56,  5.13s/it]"
     ]
    },
    {
     "name": "stdout",
     "output_type": "stream",
     "text": [
      "finising batch  26  of  37 number of records 139179\n",
      "starting batch  27  of  37 subject  260000  to  269999\n"
     ]
    },
    {
     "name": "stderr",
     "output_type": "stream",
     "text": [
      " 73%|███████▎  | 27/37 [01:54<00:45,  4.54s/it]"
     ]
    },
    {
     "name": "stdout",
     "output_type": "stream",
     "text": [
      "finising batch  27  of  37 number of records 143380\n",
      "starting batch  28  of  37 subject  270000  to  279999\n"
     ]
    },
    {
     "name": "stderr",
     "output_type": "stream",
     "text": [
      " 76%|███████▌  | 28/37 [01:57<00:36,  4.11s/it]"
     ]
    },
    {
     "name": "stdout",
     "output_type": "stream",
     "text": [
      "finising batch  28  of  37 number of records 147502\n",
      "starting batch  29  of  37 subject  280000  to  289999\n"
     ]
    },
    {
     "name": "stderr",
     "output_type": "stream",
     "text": [
      " 78%|███████▊  | 29/37 [02:01<00:32,  4.04s/it]"
     ]
    },
    {
     "name": "stdout",
     "output_type": "stream",
     "text": [
      "finising batch  29  of  37 number of records 151683\n",
      "starting batch  30  of  37 subject  290000  to  299999\n"
     ]
    },
    {
     "name": "stderr",
     "output_type": "stream",
     "text": [
      " 81%|████████  | 30/37 [02:05<00:28,  4.10s/it]"
     ]
    },
    {
     "name": "stdout",
     "output_type": "stream",
     "text": [
      "finising batch  30  of  37 number of records 155810\n",
      "starting batch  31  of  37 subject  300000  to  309999\n"
     ]
    },
    {
     "name": "stderr",
     "output_type": "stream",
     "text": [
      " 84%|████████▍ | 31/37 [02:08<00:23,  3.84s/it]"
     ]
    },
    {
     "name": "stdout",
     "output_type": "stream",
     "text": [
      "finising batch  31  of  37 number of records 159911\n",
      "starting batch  32  of  37 subject  310000  to  319999\n"
     ]
    },
    {
     "name": "stderr",
     "output_type": "stream",
     "text": [
      " 86%|████████▋ | 32/37 [02:12<00:19,  3.95s/it]"
     ]
    },
    {
     "name": "stdout",
     "output_type": "stream",
     "text": [
      "finising batch  32  of  37 number of records 163928\n",
      "starting batch  33  of  37 subject  320000  to  329999\n"
     ]
    },
    {
     "name": "stderr",
     "output_type": "stream",
     "text": [
      " 89%|████████▉ | 33/37 [02:17<00:16,  4.23s/it]"
     ]
    },
    {
     "name": "stdout",
     "output_type": "stream",
     "text": [
      "finising batch  33  of  37 number of records 167888\n",
      "starting batch  34  of  37 subject  330000  to  339999\n"
     ]
    },
    {
     "name": "stderr",
     "output_type": "stream",
     "text": [
      " 92%|█████████▏| 34/37 [02:20<00:11,  3.67s/it]"
     ]
    },
    {
     "name": "stdout",
     "output_type": "stream",
     "text": [
      "finising batch  34  of  37 number of records 172060\n",
      "starting batch  35  of  37 subject  340000  to  349999\n"
     ]
    },
    {
     "name": "stderr",
     "output_type": "stream",
     "text": [
      " 95%|█████████▍| 35/37 [02:22<00:06,  3.25s/it]"
     ]
    },
    {
     "name": "stdout",
     "output_type": "stream",
     "text": [
      "finising batch  35  of  37 number of records 176004\n",
      "starting batch  36  of  37 subject  350000  to  359999\n"
     ]
    },
    {
     "name": "stderr",
     "output_type": "stream",
     "text": [
      " 97%|█████████▋| 36/37 [02:24<00:02,  2.81s/it]"
     ]
    },
    {
     "name": "stdout",
     "output_type": "stream",
     "text": [
      "finising batch  36  of  37 number of records 179890\n",
      "starting batch  37  of  37 subject  360000  to  369999\n"
     ]
    },
    {
     "name": "stderr",
     "output_type": "stream",
     "text": [
      "100%|██████████| 37/37 [02:25<00:00,  3.94s/it]"
     ]
    },
    {
     "name": "stdout",
     "output_type": "stream",
     "text": [
      "finising batch  37  of  37 number of records 180469\n"
     ]
    },
    {
     "name": "stderr",
     "output_type": "stream",
     "text": [
      "\n"
     ]
    }
   ],
   "source": [
    "# Due to memory problem, we will query in batch\n",
    "# We will query 10000 at a time\n",
    "\n",
    "n_per_batch = 10000\n",
    "n_batches = len(pt_list) // n_per_batch + 1\n",
    "\n",
    "condition_df=None\n",
    "\n",
    "for i in tqdm(range(n_batches)):\n",
    "    print(\"starting batch \", i+1, \" of \", n_batches, \"subject \", i*n_per_batch, \" to \", (i+1)*n_per_batch - 1)\n",
    "\n",
    "    sql_query = gen_code.create_combined_conditions_query(diagnosis_dict, pt_list[i*n_per_batch:(i+1)*n_per_batch])\n",
    "\n",
    "    if condition_df is None:\n",
    "        print(\"no exisiting dataframe, creating new one\")\n",
    "        condition_df = pd.read_sql(sql_query, conn)\n",
    "        print(\"finising batch \", i+1, \" of \", n_batches, 'number of records',len(condition_df))\n",
    "    else:\n",
    "        next_condition_df = pd.read_sql(sql_query, conn)\n",
    "        \n",
    "        condition_df = pd.concat([condition_df, next_condition_df])\n",
    "        print(\"finising batch \", i+1, \" of \", n_batches, 'number of records',len(condition_df))\n"
   ]
  },
  {
   "cell_type": "code",
   "execution_count": 9,
   "metadata": {},
   "outputs": [
    {
     "data": {
      "text/html": [
       "<div>\n",
       "<style scoped>\n",
       "    .dataframe tbody tr th:only-of-type {\n",
       "        vertical-align: middle;\n",
       "    }\n",
       "\n",
       "    .dataframe tbody tr th {\n",
       "        vertical-align: top;\n",
       "    }\n",
       "\n",
       "    .dataframe thead th {\n",
       "        text-align: right;\n",
       "    }\n",
       "</style>\n",
       "<table border=\"1\" class=\"dataframe\">\n",
       "  <thead>\n",
       "    <tr style=\"text-align: right;\">\n",
       "      <th></th>\n",
       "      <th>first_dm_date</th>\n",
       "      <th>first_acne_date</th>\n",
       "      <th>first_tachyarrythmia_date</th>\n",
       "      <th>first_palpitation_date</th>\n",
       "      <th>first_af_date</th>\n",
       "      <th>first_bph_date</th>\n",
       "      <th>first_cirrhosis_date</th>\n",
       "      <th>first_hairloss_date</th>\n",
       "      <th>first_hf_date</th>\n",
       "      <th>first_pregnancy_hypertension_date</th>\n",
       "      <th>first_hyperthyroid_date</th>\n",
       "      <th>first_migraine_date</th>\n",
       "      <th>first_ckd_date</th>\n",
       "      <th>first_tremor_date</th>\n",
       "      <th>person_id</th>\n",
       "    </tr>\n",
       "  </thead>\n",
       "  <tbody>\n",
       "    <tr>\n",
       "      <th>0</th>\n",
       "      <td>2006-08-05</td>\n",
       "      <td>None</td>\n",
       "      <td>None</td>\n",
       "      <td>None</td>\n",
       "      <td>None</td>\n",
       "      <td>None</td>\n",
       "      <td>None</td>\n",
       "      <td>2007-04-25</td>\n",
       "      <td>None</td>\n",
       "      <td>None</td>\n",
       "      <td>None</td>\n",
       "      <td>None</td>\n",
       "      <td>None</td>\n",
       "      <td>None</td>\n",
       "      <td>378271</td>\n",
       "    </tr>\n",
       "    <tr>\n",
       "      <th>1</th>\n",
       "      <td>2009-10-21</td>\n",
       "      <td>None</td>\n",
       "      <td>None</td>\n",
       "      <td>None</td>\n",
       "      <td>None</td>\n",
       "      <td>None</td>\n",
       "      <td>None</td>\n",
       "      <td>2013-06-07</td>\n",
       "      <td>None</td>\n",
       "      <td>None</td>\n",
       "      <td>None</td>\n",
       "      <td>None</td>\n",
       "      <td>None</td>\n",
       "      <td>None</td>\n",
       "      <td>378807</td>\n",
       "    </tr>\n",
       "    <tr>\n",
       "      <th>2</th>\n",
       "      <td>2006-09-07</td>\n",
       "      <td>None</td>\n",
       "      <td>None</td>\n",
       "      <td>None</td>\n",
       "      <td>None</td>\n",
       "      <td>None</td>\n",
       "      <td>None</td>\n",
       "      <td>None</td>\n",
       "      <td>None</td>\n",
       "      <td>None</td>\n",
       "      <td>None</td>\n",
       "      <td>None</td>\n",
       "      <td>None</td>\n",
       "      <td>None</td>\n",
       "      <td>379109</td>\n",
       "    </tr>\n",
       "    <tr>\n",
       "      <th>3</th>\n",
       "      <td>2003-04-03</td>\n",
       "      <td>None</td>\n",
       "      <td>None</td>\n",
       "      <td>None</td>\n",
       "      <td>None</td>\n",
       "      <td>None</td>\n",
       "      <td>None</td>\n",
       "      <td>None</td>\n",
       "      <td>None</td>\n",
       "      <td>None</td>\n",
       "      <td>None</td>\n",
       "      <td>None</td>\n",
       "      <td>None</td>\n",
       "      <td>None</td>\n",
       "      <td>379209</td>\n",
       "    </tr>\n",
       "    <tr>\n",
       "      <th>4</th>\n",
       "      <td>2015-05-12</td>\n",
       "      <td>None</td>\n",
       "      <td>2010-08-22</td>\n",
       "      <td>None</td>\n",
       "      <td>None</td>\n",
       "      <td>None</td>\n",
       "      <td>None</td>\n",
       "      <td>None</td>\n",
       "      <td>2007-03-07</td>\n",
       "      <td>None</td>\n",
       "      <td>None</td>\n",
       "      <td>None</td>\n",
       "      <td>2007-03-07</td>\n",
       "      <td>None</td>\n",
       "      <td>379243</td>\n",
       "    </tr>\n",
       "  </tbody>\n",
       "</table>\n",
       "</div>"
      ],
      "text/plain": [
       "  first_dm_date first_acne_date first_tachyarrythmia_date  \\\n",
       "0    2006-08-05            None                      None   \n",
       "1    2009-10-21            None                      None   \n",
       "2    2006-09-07            None                      None   \n",
       "3    2003-04-03            None                      None   \n",
       "4    2015-05-12            None                2010-08-22   \n",
       "\n",
       "  first_palpitation_date first_af_date first_bph_date first_cirrhosis_date  \\\n",
       "0                   None          None           None                 None   \n",
       "1                   None          None           None                 None   \n",
       "2                   None          None           None                 None   \n",
       "3                   None          None           None                 None   \n",
       "4                   None          None           None                 None   \n",
       "\n",
       "  first_hairloss_date first_hf_date first_pregnancy_hypertension_date  \\\n",
       "0          2007-04-25          None                              None   \n",
       "1          2013-06-07          None                              None   \n",
       "2                None          None                              None   \n",
       "3                None          None                              None   \n",
       "4                None    2007-03-07                              None   \n",
       "\n",
       "  first_hyperthyroid_date first_migraine_date first_ckd_date  \\\n",
       "0                    None                None           None   \n",
       "1                    None                None           None   \n",
       "2                    None                None           None   \n",
       "3                    None                None           None   \n",
       "4                    None                None     2007-03-07   \n",
       "\n",
       "  first_tremor_date  person_id  \n",
       "0              None     378271  \n",
       "1              None     378807  \n",
       "2              None     379109  \n",
       "3              None     379209  \n",
       "4              None     379243  "
      ]
     },
     "execution_count": 9,
     "metadata": {},
     "output_type": "execute_result"
    }
   ],
   "source": [
    "condition_df.head()"
   ]
  },
  {
   "cell_type": "code",
   "execution_count": 4,
   "metadata": {},
   "outputs": [],
   "source": [
    "# (\"2858\",\"1495\"),\"Y\",null)) as [K-sparing diuretics]\n",
    "# (\"948\",\"3276\"),\"Y\",null)) as [Calcium Channel Blocker (non-Dihydropyridine)]\n",
    "# (\"236\",\"368\",\"369\",\"1116\",\"2004\",\"2113\",\"2586\",\"3418\",\"2586\"),\"Y\",null)) as [Beta Blocker]\n",
    "# (\"1017\",\"2531\",\"3026\"),\"Y\",null)) as [Alpha Blocker]\n",
    "# (\"496\",\"1069\",\"1538\",\"1778\",\"2631\",\"2652\",\"2654\",\"3371\",\"3372\",\"3373\",\"3718\"),\"Y\",null)) as [ACEI]\n",
    "# (\"1338\",\"3148\"),\"Y\",null)) as [Loop diuretics]\n",
    "# (\"1975\",\"721\"),\"Y\",null)) as [Alpha II Agonist]\n",
    "# (\"488\",\"489\",\"1645\",\"1646\",\"1802\",\"1803\",\"2225\",\"3009\",\"3010\",\"3263\",\"3264\",\"3265\",\"3365\",\"3405\",\"3406\",\"3408\",\"3423\",\"3478\",\"3524\",\"3550\",\"3560\"),\"Y\",null)) as [ARB]\n",
    "\n",
    "with open('drug_dict.json', 'r') as file:\n",
    "    drug_dict = json.load(file)\n",
    "    file.close()"
   ]
  },
  {
   "cell_type": "code",
   "execution_count": 5,
   "metadata": {},
   "outputs": [
    {
     "name": "stderr",
     "output_type": "stream",
     "text": [
      "  0%|          | 0/37 [00:00<?, ?it/s]"
     ]
    },
    {
     "name": "stdout",
     "output_type": "stream",
     "text": [
      "starting batch  1  of  37 subject  0  to  9999\n",
      "no exisiting dataframe, creating new one\n"
     ]
    },
    {
     "name": "stderr",
     "output_type": "stream",
     "text": [
      "  3%|▎         | 1/37 [00:27<16:15, 27.09s/it]"
     ]
    },
    {
     "name": "stdout",
     "output_type": "stream",
     "text": [
      "finising batch  1  of  37 number of records 7049\n",
      "starting batch  2  of  37 subject  10000  to  19999\n"
     ]
    },
    {
     "name": "stderr",
     "output_type": "stream",
     "text": [
      "  5%|▌         | 2/37 [00:38<10:35, 18.15s/it]"
     ]
    },
    {
     "name": "stdout",
     "output_type": "stream",
     "text": [
      "finising batch  2  of  37 number of records 14185\n",
      "starting batch  3  of  37 subject  20000  to  29999\n"
     ]
    },
    {
     "name": "stderr",
     "output_type": "stream",
     "text": [
      "  8%|▊         | 3/37 [00:49<08:13, 14.50s/it]"
     ]
    },
    {
     "name": "stdout",
     "output_type": "stream",
     "text": [
      "finising batch  3  of  37 number of records 21287\n",
      "starting batch  4  of  37 subject  30000  to  39999\n"
     ]
    },
    {
     "name": "stderr",
     "output_type": "stream",
     "text": [
      " 11%|█         | 4/37 [00:55<06:15, 11.38s/it]"
     ]
    },
    {
     "name": "stdout",
     "output_type": "stream",
     "text": [
      "finising batch  4  of  37 number of records 28311\n",
      "starting batch  5  of  37 subject  40000  to  49999\n"
     ]
    },
    {
     "name": "stderr",
     "output_type": "stream",
     "text": [
      " 14%|█▎        | 5/37 [01:03<05:23, 10.10s/it]"
     ]
    },
    {
     "name": "stdout",
     "output_type": "stream",
     "text": [
      "finising batch  5  of  37 number of records 35461\n",
      "starting batch  6  of  37 subject  50000  to  59999\n"
     ]
    },
    {
     "name": "stderr",
     "output_type": "stream",
     "text": [
      " 16%|█▌        | 6/37 [01:08<04:21,  8.44s/it]"
     ]
    },
    {
     "name": "stdout",
     "output_type": "stream",
     "text": [
      "finising batch  6  of  37 number of records 42618\n",
      "starting batch  7  of  37 subject  60000  to  69999\n"
     ]
    },
    {
     "name": "stderr",
     "output_type": "stream",
     "text": [
      " 19%|█▉        | 7/37 [01:15<03:55,  7.85s/it]"
     ]
    },
    {
     "name": "stdout",
     "output_type": "stream",
     "text": [
      "finising batch  7  of  37 number of records 49603\n",
      "starting batch  8  of  37 subject  70000  to  79999\n"
     ]
    },
    {
     "name": "stderr",
     "output_type": "stream",
     "text": [
      " 22%|██▏       | 8/37 [01:20<03:23,  7.00s/it]"
     ]
    },
    {
     "name": "stdout",
     "output_type": "stream",
     "text": [
      "finising batch  8  of  37 number of records 56512\n",
      "starting batch  9  of  37 subject  80000  to  89999\n"
     ]
    },
    {
     "name": "stderr",
     "output_type": "stream",
     "text": [
      " 24%|██▍       | 9/37 [01:25<02:55,  6.28s/it]"
     ]
    },
    {
     "name": "stdout",
     "output_type": "stream",
     "text": [
      "finising batch  9  of  37 number of records 63461\n",
      "starting batch  10  of  37 subject  90000  to  99999\n"
     ]
    },
    {
     "name": "stderr",
     "output_type": "stream",
     "text": [
      " 27%|██▋       | 10/37 [01:30<02:38,  5.88s/it]"
     ]
    },
    {
     "name": "stdout",
     "output_type": "stream",
     "text": [
      "finising batch  10  of  37 number of records 70338\n",
      "starting batch  11  of  37 subject  100000  to  109999\n"
     ]
    },
    {
     "name": "stderr",
     "output_type": "stream",
     "text": [
      " 30%|██▉       | 11/37 [01:35<02:30,  5.78s/it]"
     ]
    },
    {
     "name": "stdout",
     "output_type": "stream",
     "text": [
      "finising batch  11  of  37 number of records 77304\n",
      "starting batch  12  of  37 subject  110000  to  119999\n"
     ]
    },
    {
     "name": "stderr",
     "output_type": "stream",
     "text": [
      " 32%|███▏      | 12/37 [01:41<02:21,  5.67s/it]"
     ]
    },
    {
     "name": "stdout",
     "output_type": "stream",
     "text": [
      "finising batch  12  of  37 number of records 84268\n",
      "starting batch  13  of  37 subject  120000  to  129999\n"
     ]
    },
    {
     "name": "stderr",
     "output_type": "stream",
     "text": [
      " 35%|███▌      | 13/37 [01:45<02:06,  5.29s/it]"
     ]
    },
    {
     "name": "stdout",
     "output_type": "stream",
     "text": [
      "finising batch  13  of  37 number of records 91115\n",
      "starting batch  14  of  37 subject  130000  to  139999\n"
     ]
    },
    {
     "name": "stderr",
     "output_type": "stream",
     "text": [
      " 38%|███▊      | 14/37 [01:50<01:55,  5.00s/it]"
     ]
    },
    {
     "name": "stdout",
     "output_type": "stream",
     "text": [
      "finising batch  14  of  37 number of records 98052\n",
      "starting batch  15  of  37 subject  140000  to  149999\n"
     ]
    },
    {
     "name": "stderr",
     "output_type": "stream",
     "text": [
      " 41%|████      | 15/37 [01:55<01:56,  5.28s/it]"
     ]
    },
    {
     "name": "stdout",
     "output_type": "stream",
     "text": [
      "finising batch  15  of  37 number of records 104913\n",
      "starting batch  16  of  37 subject  150000  to  159999\n"
     ]
    },
    {
     "name": "stderr",
     "output_type": "stream",
     "text": [
      " 43%|████▎     | 16/37 [02:00<01:49,  5.20s/it]"
     ]
    },
    {
     "name": "stdout",
     "output_type": "stream",
     "text": [
      "finising batch  16  of  37 number of records 111457\n",
      "starting batch  17  of  37 subject  160000  to  169999\n"
     ]
    },
    {
     "name": "stderr",
     "output_type": "stream",
     "text": [
      " 46%|████▌     | 17/37 [02:06<01:47,  5.36s/it]"
     ]
    },
    {
     "name": "stdout",
     "output_type": "stream",
     "text": [
      "finising batch  17  of  37 number of records 118108\n",
      "starting batch  18  of  37 subject  170000  to  179999\n"
     ]
    },
    {
     "name": "stderr",
     "output_type": "stream",
     "text": [
      " 49%|████▊     | 18/37 [02:29<03:21, 10.63s/it]"
     ]
    },
    {
     "name": "stdout",
     "output_type": "stream",
     "text": [
      "finising batch  18  of  37 number of records 124712\n",
      "starting batch  19  of  37 subject  180000  to  189999\n"
     ]
    },
    {
     "name": "stderr",
     "output_type": "stream",
     "text": [
      " 51%|█████▏    | 19/37 [02:37<02:57,  9.85s/it]"
     ]
    },
    {
     "name": "stdout",
     "output_type": "stream",
     "text": [
      "finising batch  19  of  37 number of records 131141\n",
      "starting batch  20  of  37 subject  190000  to  199999\n"
     ]
    },
    {
     "name": "stderr",
     "output_type": "stream",
     "text": [
      " 54%|█████▍    | 20/37 [02:44<02:32,  8.96s/it]"
     ]
    },
    {
     "name": "stdout",
     "output_type": "stream",
     "text": [
      "finising batch  20  of  37 number of records 137568\n",
      "starting batch  21  of  37 subject  200000  to  209999\n"
     ]
    },
    {
     "name": "stderr",
     "output_type": "stream",
     "text": [
      " 57%|█████▋    | 21/37 [02:50<02:09,  8.12s/it]"
     ]
    },
    {
     "name": "stdout",
     "output_type": "stream",
     "text": [
      "finising batch  21  of  37 number of records 143899\n",
      "starting batch  22  of  37 subject  210000  to  219999\n"
     ]
    },
    {
     "name": "stderr",
     "output_type": "stream",
     "text": [
      " 59%|█████▉    | 22/37 [02:55<01:49,  7.28s/it]"
     ]
    },
    {
     "name": "stdout",
     "output_type": "stream",
     "text": [
      "finising batch  22  of  37 number of records 150201\n",
      "starting batch  23  of  37 subject  220000  to  229999\n"
     ]
    },
    {
     "name": "stderr",
     "output_type": "stream",
     "text": [
      " 62%|██████▏   | 23/37 [03:02<01:37,  6.94s/it]"
     ]
    },
    {
     "name": "stdout",
     "output_type": "stream",
     "text": [
      "finising batch  23  of  37 number of records 156166\n",
      "starting batch  24  of  37 subject  230000  to  239999\n"
     ]
    },
    {
     "name": "stderr",
     "output_type": "stream",
     "text": [
      " 65%|██████▍   | 24/37 [03:09<01:31,  7.07s/it]"
     ]
    },
    {
     "name": "stdout",
     "output_type": "stream",
     "text": [
      "finising batch  24  of  37 number of records 161535\n",
      "starting batch  25  of  37 subject  240000  to  249999\n"
     ]
    },
    {
     "name": "stderr",
     "output_type": "stream",
     "text": [
      " 68%|██████▊   | 25/37 [03:15<01:22,  6.87s/it]"
     ]
    },
    {
     "name": "stdout",
     "output_type": "stream",
     "text": [
      "finising batch  25  of  37 number of records 166805\n",
      "starting batch  26  of  37 subject  250000  to  259999\n"
     ]
    },
    {
     "name": "stderr",
     "output_type": "stream",
     "text": [
      " 70%|███████   | 26/37 [03:23<01:18,  7.17s/it]"
     ]
    },
    {
     "name": "stdout",
     "output_type": "stream",
     "text": [
      "finising batch  26  of  37 number of records 171983\n",
      "starting batch  27  of  37 subject  260000  to  269999\n"
     ]
    },
    {
     "name": "stderr",
     "output_type": "stream",
     "text": [
      " 73%|███████▎  | 27/37 [03:31<01:13,  7.35s/it]"
     ]
    },
    {
     "name": "stdout",
     "output_type": "stream",
     "text": [
      "finising batch  27  of  37 number of records 177125\n",
      "starting batch  28  of  37 subject  270000  to  279999\n"
     ]
    },
    {
     "name": "stderr",
     "output_type": "stream",
     "text": [
      " 76%|███████▌  | 28/37 [03:39<01:08,  7.59s/it]"
     ]
    },
    {
     "name": "stdout",
     "output_type": "stream",
     "text": [
      "finising batch  28  of  37 number of records 182084\n",
      "starting batch  29  of  37 subject  280000  to  289999\n"
     ]
    },
    {
     "name": "stderr",
     "output_type": "stream",
     "text": [
      " 78%|███████▊  | 29/37 [03:46<00:59,  7.47s/it]"
     ]
    },
    {
     "name": "stdout",
     "output_type": "stream",
     "text": [
      "finising batch  29  of  37 number of records 187158\n",
      "starting batch  30  of  37 subject  290000  to  299999\n"
     ]
    },
    {
     "name": "stderr",
     "output_type": "stream",
     "text": [
      " 81%|████████  | 30/37 [03:54<00:53,  7.64s/it]"
     ]
    },
    {
     "name": "stdout",
     "output_type": "stream",
     "text": [
      "finising batch  30  of  37 number of records 192014\n",
      "starting batch  31  of  37 subject  300000  to  309999\n"
     ]
    },
    {
     "name": "stderr",
     "output_type": "stream",
     "text": [
      " 84%|████████▍ | 31/37 [04:02<00:46,  7.73s/it]"
     ]
    },
    {
     "name": "stdout",
     "output_type": "stream",
     "text": [
      "finising batch  31  of  37 number of records 196832\n",
      "starting batch  32  of  37 subject  310000  to  319999\n"
     ]
    },
    {
     "name": "stderr",
     "output_type": "stream",
     "text": [
      " 86%|████████▋ | 32/37 [04:12<00:41,  8.34s/it]"
     ]
    },
    {
     "name": "stdout",
     "output_type": "stream",
     "text": [
      "finising batch  32  of  37 number of records 201487\n",
      "starting batch  33  of  37 subject  320000  to  329999\n"
     ]
    },
    {
     "name": "stderr",
     "output_type": "stream",
     "text": [
      " 89%|████████▉ | 33/37 [04:21<00:34,  8.61s/it]"
     ]
    },
    {
     "name": "stdout",
     "output_type": "stream",
     "text": [
      "finising batch  33  of  37 number of records 206065\n",
      "starting batch  34  of  37 subject  330000  to  339999\n"
     ]
    },
    {
     "name": "stderr",
     "output_type": "stream",
     "text": [
      " 92%|█████████▏| 34/37 [04:29<00:24,  8.23s/it]"
     ]
    },
    {
     "name": "stdout",
     "output_type": "stream",
     "text": [
      "finising batch  34  of  37 number of records 210844\n",
      "starting batch  35  of  37 subject  340000  to  349999\n"
     ]
    },
    {
     "name": "stderr",
     "output_type": "stream",
     "text": [
      " 95%|█████████▍| 35/37 [04:36<00:15,  7.95s/it]"
     ]
    },
    {
     "name": "stdout",
     "output_type": "stream",
     "text": [
      "finising batch  35  of  37 number of records 215073\n",
      "starting batch  36  of  37 subject  350000  to  359999\n"
     ]
    },
    {
     "name": "stderr",
     "output_type": "stream",
     "text": [
      " 97%|█████████▋| 36/37 [04:43<00:07,  7.74s/it]"
     ]
    },
    {
     "name": "stdout",
     "output_type": "stream",
     "text": [
      "finising batch  36  of  37 number of records 219175\n",
      "starting batch  37  of  37 subject  360000  to  369999\n"
     ]
    },
    {
     "name": "stderr",
     "output_type": "stream",
     "text": [
      "100%|██████████| 37/37 [04:47<00:00,  7.78s/it]"
     ]
    },
    {
     "name": "stdout",
     "output_type": "stream",
     "text": [
      "finising batch  37  of  37 number of records 219779\n"
     ]
    },
    {
     "name": "stderr",
     "output_type": "stream",
     "text": [
      "\n"
     ]
    }
   ],
   "source": [
    "n_per_batch = 10000\n",
    "n_batches = len(pt_list) // n_per_batch + 1\n",
    "\n",
    "drug_df=None\n",
    "\n",
    "for i in tqdm(range(n_batches)):\n",
    "    print(\"starting batch \", i+1, \" of \", n_batches, \"subject \", i*n_per_batch, \" to \", (i+1)*n_per_batch - 1)\n",
    "\n",
    "    sql_query = gen_code.create_combined_drugs_query(drug_dict, pt_list[i*n_per_batch:(i+1)*n_per_batch])\n",
    "\n",
    "    if drug_df is None:\n",
    "        print(\"no exisiting dataframe, creating new one\")\n",
    "        drug_df = pd.read_sql(sql_query, conn)\n",
    "        print(\"finising batch \", i+1, \" of \", n_batches, 'number of records',len(drug_df))\n",
    "    else:\n",
    "        next_drug_df = pd.read_sql(sql_query, conn)\n",
    "        \n",
    "        drug_df = pd.concat([drug_df, next_drug_df])\n",
    "        print(\"finising batch \", i+1, \" of \", n_batches, 'number of records',len(drug_df))"
   ]
  },
  {
   "cell_type": "code",
   "execution_count": 10,
   "metadata": {},
   "outputs": [
    {
     "data": {
      "text/html": [
       "<div>\n",
       "<style scoped>\n",
       "    .dataframe tbody tr th:only-of-type {\n",
       "        vertical-align: middle;\n",
       "    }\n",
       "\n",
       "    .dataframe tbody tr th {\n",
       "        vertical-align: top;\n",
       "    }\n",
       "\n",
       "    .dataframe thead th {\n",
       "        text-align: right;\n",
       "    }\n",
       "</style>\n",
       "<table border=\"1\" class=\"dataframe\">\n",
       "  <thead>\n",
       "    <tr style=\"text-align: right;\">\n",
       "      <th></th>\n",
       "      <th>first_sglt2_date</th>\n",
       "      <th>first_glp_date</th>\n",
       "      <th>first_k_sparing_date</th>\n",
       "      <th>first_nonDHP_date</th>\n",
       "      <th>first_bb_date</th>\n",
       "      <th>first_alpha_date</th>\n",
       "      <th>first_acei_date</th>\n",
       "      <th>first_loop_date</th>\n",
       "      <th>first_alpha2_date</th>\n",
       "      <th>first_arb_date</th>\n",
       "      <th>person_id</th>\n",
       "    </tr>\n",
       "  </thead>\n",
       "  <tbody>\n",
       "    <tr>\n",
       "      <th>0</th>\n",
       "      <td>None</td>\n",
       "      <td>None</td>\n",
       "      <td>None</td>\n",
       "      <td>2018-07-09</td>\n",
       "      <td>2013-07-12</td>\n",
       "      <td>None</td>\n",
       "      <td>None</td>\n",
       "      <td>None</td>\n",
       "      <td>None</td>\n",
       "      <td>2020-03-06</td>\n",
       "      <td>378472</td>\n",
       "    </tr>\n",
       "    <tr>\n",
       "      <th>1</th>\n",
       "      <td>None</td>\n",
       "      <td>None</td>\n",
       "      <td>None</td>\n",
       "      <td>None</td>\n",
       "      <td>2017-02-27</td>\n",
       "      <td>None</td>\n",
       "      <td>None</td>\n",
       "      <td>None</td>\n",
       "      <td>None</td>\n",
       "      <td>None</td>\n",
       "      <td>379301</td>\n",
       "    </tr>\n",
       "    <tr>\n",
       "      <th>2</th>\n",
       "      <td>None</td>\n",
       "      <td>None</td>\n",
       "      <td>None</td>\n",
       "      <td>None</td>\n",
       "      <td>None</td>\n",
       "      <td>None</td>\n",
       "      <td>2013-05-21</td>\n",
       "      <td>None</td>\n",
       "      <td>None</td>\n",
       "      <td>None</td>\n",
       "      <td>380087</td>\n",
       "    </tr>\n",
       "    <tr>\n",
       "      <th>3</th>\n",
       "      <td>None</td>\n",
       "      <td>None</td>\n",
       "      <td>None</td>\n",
       "      <td>None</td>\n",
       "      <td>None</td>\n",
       "      <td>None</td>\n",
       "      <td>None</td>\n",
       "      <td>2017-04-19</td>\n",
       "      <td>None</td>\n",
       "      <td>2017-04-19</td>\n",
       "      <td>380837</td>\n",
       "    </tr>\n",
       "    <tr>\n",
       "      <th>4</th>\n",
       "      <td>None</td>\n",
       "      <td>None</td>\n",
       "      <td>None</td>\n",
       "      <td>None</td>\n",
       "      <td>2013-10-10</td>\n",
       "      <td>None</td>\n",
       "      <td>2014-09-11</td>\n",
       "      <td>None</td>\n",
       "      <td>None</td>\n",
       "      <td>None</td>\n",
       "      <td>382845</td>\n",
       "    </tr>\n",
       "  </tbody>\n",
       "</table>\n",
       "</div>"
      ],
      "text/plain": [
       "  first_sglt2_date first_glp_date first_k_sparing_date first_nonDHP_date  \\\n",
       "0             None           None                 None        2018-07-09   \n",
       "1             None           None                 None              None   \n",
       "2             None           None                 None              None   \n",
       "3             None           None                 None              None   \n",
       "4             None           None                 None              None   \n",
       "\n",
       "  first_bb_date first_alpha_date first_acei_date first_loop_date  \\\n",
       "0    2013-07-12             None            None            None   \n",
       "1    2017-02-27             None            None            None   \n",
       "2          None             None      2013-05-21            None   \n",
       "3          None             None            None      2017-04-19   \n",
       "4    2013-10-10             None      2014-09-11            None   \n",
       "\n",
       "  first_alpha2_date first_arb_date  person_id  \n",
       "0              None     2020-03-06     378472  \n",
       "1              None           None     379301  \n",
       "2              None           None     380087  \n",
       "3              None     2017-04-19     380837  \n",
       "4              None           None     382845  "
      ]
     },
     "execution_count": 10,
     "metadata": {},
     "output_type": "execute_result"
    }
   ],
   "source": [
    "drug_df.head()"
   ]
  },
  {
   "cell_type": "code",
   "execution_count": 11,
   "metadata": {},
   "outputs": [
    {
     "name": "stdout",
     "output_type": "stream",
     "text": [
      "number of records in condition_df 180469\n",
      "number of records in drug_df 219779\n"
     ]
    }
   ],
   "source": [
    "print(\"number of records in condition_df\", len(condition_df))\n",
    "print(\"number of records in drug_df\", len(drug_df))"
   ]
  },
  {
   "cell_type": "code",
   "execution_count": 15,
   "metadata": {},
   "outputs": [],
   "source": [
    "pt_df = pt[['person_id', 'age_at_first_drug', 'age_at_first_diag', 'criteria']]"
   ]
  },
  {
   "cell_type": "code",
   "execution_count": 17,
   "metadata": {},
   "outputs": [],
   "source": [
    "pt_df = pd.merge(pt_df, drug_df, on='person_id', how='left')\n",
    "pt_df = pd.merge(pt_df, condition_df, on='person_id', how='left')"
   ]
  },
  {
   "cell_type": "code",
   "execution_count": 53,
   "metadata": {},
   "outputs": [],
   "source": [
    "def create_exclusion_criteria(df):\n",
    "    new_df = df[['person_id']]\n",
    "\n",
    "    new_df['hyperthyroid_bb'] = (~df['first_hyperthyroid_date'].isna() & ~df['first_bb_date'].isna()).astype(int)\n",
    "    new_df['af_bb'] = (~df['first_af_date'].isna() & ~df['first_bb_date'].isna()).astype(int)\n",
    "    \n",
    "    new_df['hf_k_sparing'] = (~df['first_hf_date'].isna() & ~df['first_k_sparing_date'].isna()).astype(int)\n",
    "    new_df['acne_k_sparing'] = (~df['first_acne_date'].isna() & ~df['first_acne_date'].isna()).astype(int)\n",
    "    new_df['hair_k_sparing'] = (~df['first_hairloss_date'].isna() & ~df['first_k_sparing_date'].isna()).astype(int)\n",
    "    new_df['cirr_k_sparing'] = (~df['first_cirrhosis_date'].isna() & ~df['first_k_sparing_date'].isna()).astype(int)\n",
    "\n",
    "    new_df['hf_loop'] = (~df['first_hf_date'].isna() & ~df['first_loop_date'].isna()).astype(int)\n",
    "\n",
    "    new_df['bph_alpha'] = (~df['first_bph_date'].isna() & ~df['first_alpha_date'].isna()).astype(int)\n",
    "\n",
    "    new_df['hf_acei'] = (~df['first_hf_date'].isna() & ~df['first_acei_date'].isna()).astype(int)\n",
    "    new_df['hf_arb'] = (~df['first_hf_date'].isna() & ~df['first_arb_date'].isna()).astype(int)\n",
    "    new_df['arrythmia_nondhp'] = (~df['first_tachyarrythmia_date'].isna() & ~df['first_nonDHP_date'].isna()).astype(int)\n",
    "    \n",
    "    new_df['preg_alpha2'] = (~df['first_pregnancy_hypertension_date'].isna() & ~df['first_alpha2_date'].isna()).astype(int)\n",
    "    \n",
    "    # new_df['migraine_bb'] = (~df['first_migraine_date'].isna() & ~df['first_bb_date'].isna()).astype(int)\n",
    "    # new_df['cirr_bb'] = (~df['first_cirrhosis_date'].isna() & ~df['first_bb_date'].isna()).astype(int)\n",
    "    # new_df['ckd_acei'] = (~df['first_ckd_date'].isna() & ~df['first_acei_date'].isna()).astype(int)\n",
    "    # new_df['ckd_arb'] = (~df['first_ckd_date'].isna() & ~df['first_arb_date'].isna()).astype(int)\n",
    "    \n",
    "    # new_df['et_bb'] = (~df['first_tremor_date'].isna() & ~df['first_arb_date'].isna()).astype(int)\n",
    "    new_df['summary'] = new_df.drop('person_id', axis=1).sum(axis=1)\n",
    "\n",
    "    return new_df"
   ]
  },
  {
   "cell_type": "code",
   "execution_count": 54,
   "metadata": {},
   "outputs": [],
   "source": [
    "drug_only = pt_df[pt_df['criteria'] == 'drug']"
   ]
  },
  {
   "cell_type": "code",
   "execution_count": 55,
   "metadata": {},
   "outputs": [
    {
     "name": "stderr",
     "output_type": "stream",
     "text": [
      "C:\\Users\\krittaphas.chi\\AppData\\Local\\Temp\\ipykernel_12528\\3625964541.py:4: SettingWithCopyWarning: \n",
      "A value is trying to be set on a copy of a slice from a DataFrame.\n",
      "Try using .loc[row_indexer,col_indexer] = value instead\n",
      "\n",
      "See the caveats in the documentation: https://pandas.pydata.org/pandas-docs/stable/user_guide/indexing.html#returning-a-view-versus-a-copy\n",
      "  new_df['hyperthyroid_bb'] = (~df['first_hyperthyroid_date'].isna() & ~df['first_bb_date'].isna()).astype(int)\n",
      "C:\\Users\\krittaphas.chi\\AppData\\Local\\Temp\\ipykernel_12528\\3625964541.py:5: SettingWithCopyWarning: \n",
      "A value is trying to be set on a copy of a slice from a DataFrame.\n",
      "Try using .loc[row_indexer,col_indexer] = value instead\n",
      "\n",
      "See the caveats in the documentation: https://pandas.pydata.org/pandas-docs/stable/user_guide/indexing.html#returning-a-view-versus-a-copy\n",
      "  new_df['af_bb'] = (~df['first_af_date'].isna() & ~df['first_bb_date'].isna()).astype(int)\n",
      "C:\\Users\\krittaphas.chi\\AppData\\Local\\Temp\\ipykernel_12528\\3625964541.py:7: SettingWithCopyWarning: \n",
      "A value is trying to be set on a copy of a slice from a DataFrame.\n",
      "Try using .loc[row_indexer,col_indexer] = value instead\n",
      "\n",
      "See the caveats in the documentation: https://pandas.pydata.org/pandas-docs/stable/user_guide/indexing.html#returning-a-view-versus-a-copy\n",
      "  new_df['hf_k_sparing'] = (~df['first_hf_date'].isna() & ~df['first_k_sparing_date'].isna()).astype(int)\n",
      "C:\\Users\\krittaphas.chi\\AppData\\Local\\Temp\\ipykernel_12528\\3625964541.py:8: SettingWithCopyWarning: \n",
      "A value is trying to be set on a copy of a slice from a DataFrame.\n",
      "Try using .loc[row_indexer,col_indexer] = value instead\n",
      "\n",
      "See the caveats in the documentation: https://pandas.pydata.org/pandas-docs/stable/user_guide/indexing.html#returning-a-view-versus-a-copy\n",
      "  new_df['acne_k_sparing'] = (~df['first_acne_date'].isna() & ~df['first_acne_date'].isna()).astype(int)\n",
      "C:\\Users\\krittaphas.chi\\AppData\\Local\\Temp\\ipykernel_12528\\3625964541.py:9: SettingWithCopyWarning: \n",
      "A value is trying to be set on a copy of a slice from a DataFrame.\n",
      "Try using .loc[row_indexer,col_indexer] = value instead\n",
      "\n",
      "See the caveats in the documentation: https://pandas.pydata.org/pandas-docs/stable/user_guide/indexing.html#returning-a-view-versus-a-copy\n",
      "  new_df['hair_k_sparing'] = (~df['first_hairloss_date'].isna() & ~df['first_k_sparing_date'].isna()).astype(int)\n",
      "C:\\Users\\krittaphas.chi\\AppData\\Local\\Temp\\ipykernel_12528\\3625964541.py:10: SettingWithCopyWarning: \n",
      "A value is trying to be set on a copy of a slice from a DataFrame.\n",
      "Try using .loc[row_indexer,col_indexer] = value instead\n",
      "\n",
      "See the caveats in the documentation: https://pandas.pydata.org/pandas-docs/stable/user_guide/indexing.html#returning-a-view-versus-a-copy\n",
      "  new_df['cirr_k_sparing'] = (~df['first_cirrhosis_date'].isna() & ~df['first_k_sparing_date'].isna()).astype(int)\n",
      "C:\\Users\\krittaphas.chi\\AppData\\Local\\Temp\\ipykernel_12528\\3625964541.py:12: SettingWithCopyWarning: \n",
      "A value is trying to be set on a copy of a slice from a DataFrame.\n",
      "Try using .loc[row_indexer,col_indexer] = value instead\n",
      "\n",
      "See the caveats in the documentation: https://pandas.pydata.org/pandas-docs/stable/user_guide/indexing.html#returning-a-view-versus-a-copy\n",
      "  new_df['hf_loop'] = (~df['first_hf_date'].isna() & ~df['first_loop_date'].isna()).astype(int)\n",
      "C:\\Users\\krittaphas.chi\\AppData\\Local\\Temp\\ipykernel_12528\\3625964541.py:14: SettingWithCopyWarning: \n",
      "A value is trying to be set on a copy of a slice from a DataFrame.\n",
      "Try using .loc[row_indexer,col_indexer] = value instead\n",
      "\n",
      "See the caveats in the documentation: https://pandas.pydata.org/pandas-docs/stable/user_guide/indexing.html#returning-a-view-versus-a-copy\n",
      "  new_df['bph_alpha'] = (~df['first_bph_date'].isna() & ~df['first_alpha_date'].isna()).astype(int)\n",
      "C:\\Users\\krittaphas.chi\\AppData\\Local\\Temp\\ipykernel_12528\\3625964541.py:16: SettingWithCopyWarning: \n",
      "A value is trying to be set on a copy of a slice from a DataFrame.\n",
      "Try using .loc[row_indexer,col_indexer] = value instead\n",
      "\n",
      "See the caveats in the documentation: https://pandas.pydata.org/pandas-docs/stable/user_guide/indexing.html#returning-a-view-versus-a-copy\n",
      "  new_df['hf_acei'] = (~df['first_hf_date'].isna() & ~df['first_acei_date'].isna()).astype(int)\n",
      "C:\\Users\\krittaphas.chi\\AppData\\Local\\Temp\\ipykernel_12528\\3625964541.py:17: SettingWithCopyWarning: \n",
      "A value is trying to be set on a copy of a slice from a DataFrame.\n",
      "Try using .loc[row_indexer,col_indexer] = value instead\n",
      "\n",
      "See the caveats in the documentation: https://pandas.pydata.org/pandas-docs/stable/user_guide/indexing.html#returning-a-view-versus-a-copy\n",
      "  new_df['hf_arb'] = (~df['first_hf_date'].isna() & ~df['first_arb_date'].isna()).astype(int)\n",
      "C:\\Users\\krittaphas.chi\\AppData\\Local\\Temp\\ipykernel_12528\\3625964541.py:18: SettingWithCopyWarning: \n",
      "A value is trying to be set on a copy of a slice from a DataFrame.\n",
      "Try using .loc[row_indexer,col_indexer] = value instead\n",
      "\n",
      "See the caveats in the documentation: https://pandas.pydata.org/pandas-docs/stable/user_guide/indexing.html#returning-a-view-versus-a-copy\n",
      "  new_df['arrythmia_nondhp'] = (~df['first_tachyarrythmia_date'].isna() & ~df['first_nonDHP_date'].isna()).astype(int)\n",
      "C:\\Users\\krittaphas.chi\\AppData\\Local\\Temp\\ipykernel_12528\\3625964541.py:20: SettingWithCopyWarning: \n",
      "A value is trying to be set on a copy of a slice from a DataFrame.\n",
      "Try using .loc[row_indexer,col_indexer] = value instead\n",
      "\n",
      "See the caveats in the documentation: https://pandas.pydata.org/pandas-docs/stable/user_guide/indexing.html#returning-a-view-versus-a-copy\n",
      "  new_df['preg_alpha2'] = (~df['first_pregnancy_hypertension_date'].isna() & ~df['first_alpha2_date'].isna()).astype(int)\n",
      "C:\\Users\\krittaphas.chi\\AppData\\Local\\Temp\\ipykernel_12528\\3625964541.py:28: SettingWithCopyWarning: \n",
      "A value is trying to be set on a copy of a slice from a DataFrame.\n",
      "Try using .loc[row_indexer,col_indexer] = value instead\n",
      "\n",
      "See the caveats in the documentation: https://pandas.pydata.org/pandas-docs/stable/user_guide/indexing.html#returning-a-view-versus-a-copy\n",
      "  new_df['summary'] = new_df.drop('person_id', axis=1).sum(axis=1)\n"
     ]
    }
   ],
   "source": [
    "exclusion_df = create_exclusion_criteria(drug_only)"
   ]
  },
  {
   "cell_type": "code",
   "execution_count": 56,
   "metadata": {},
   "outputs": [
    {
     "data": {
      "text/html": [
       "<div>\n",
       "<style scoped>\n",
       "    .dataframe tbody tr th:only-of-type {\n",
       "        vertical-align: middle;\n",
       "    }\n",
       "\n",
       "    .dataframe tbody tr th {\n",
       "        vertical-align: top;\n",
       "    }\n",
       "\n",
       "    .dataframe thead th {\n",
       "        text-align: right;\n",
       "    }\n",
       "</style>\n",
       "<table border=\"1\" class=\"dataframe\">\n",
       "  <thead>\n",
       "    <tr style=\"text-align: right;\">\n",
       "      <th></th>\n",
       "      <th>person_id</th>\n",
       "      <th>hyperthyroid_bb</th>\n",
       "      <th>af_bb</th>\n",
       "      <th>hf_k_sparing</th>\n",
       "      <th>acne_k_sparing</th>\n",
       "      <th>hair_k_sparing</th>\n",
       "      <th>cirr_k_sparing</th>\n",
       "      <th>hf_loop</th>\n",
       "      <th>bph_alpha</th>\n",
       "      <th>hf_acei</th>\n",
       "      <th>hf_arb</th>\n",
       "      <th>arrythmia_nondhp</th>\n",
       "      <th>preg_alpha2</th>\n",
       "      <th>summary</th>\n",
       "    </tr>\n",
       "  </thead>\n",
       "  <tbody>\n",
       "    <tr>\n",
       "      <th>3</th>\n",
       "      <td>377927</td>\n",
       "      <td>0</td>\n",
       "      <td>0</td>\n",
       "      <td>0</td>\n",
       "      <td>0</td>\n",
       "      <td>0</td>\n",
       "      <td>0</td>\n",
       "      <td>1</td>\n",
       "      <td>0</td>\n",
       "      <td>0</td>\n",
       "      <td>0</td>\n",
       "      <td>0</td>\n",
       "      <td>0</td>\n",
       "      <td>1</td>\n",
       "    </tr>\n",
       "    <tr>\n",
       "      <th>18</th>\n",
       "      <td>378360</td>\n",
       "      <td>0</td>\n",
       "      <td>0</td>\n",
       "      <td>0</td>\n",
       "      <td>1</td>\n",
       "      <td>0</td>\n",
       "      <td>0</td>\n",
       "      <td>0</td>\n",
       "      <td>0</td>\n",
       "      <td>0</td>\n",
       "      <td>0</td>\n",
       "      <td>0</td>\n",
       "      <td>0</td>\n",
       "      <td>1</td>\n",
       "    </tr>\n",
       "    <tr>\n",
       "      <th>19</th>\n",
       "      <td>378368</td>\n",
       "      <td>0</td>\n",
       "      <td>0</td>\n",
       "      <td>0</td>\n",
       "      <td>0</td>\n",
       "      <td>0</td>\n",
       "      <td>0</td>\n",
       "      <td>1</td>\n",
       "      <td>0</td>\n",
       "      <td>1</td>\n",
       "      <td>0</td>\n",
       "      <td>0</td>\n",
       "      <td>0</td>\n",
       "      <td>2</td>\n",
       "    </tr>\n",
       "    <tr>\n",
       "      <th>43</th>\n",
       "      <td>378869</td>\n",
       "      <td>0</td>\n",
       "      <td>0</td>\n",
       "      <td>0</td>\n",
       "      <td>0</td>\n",
       "      <td>0</td>\n",
       "      <td>0</td>\n",
       "      <td>0</td>\n",
       "      <td>0</td>\n",
       "      <td>0</td>\n",
       "      <td>0</td>\n",
       "      <td>0</td>\n",
       "      <td>0</td>\n",
       "      <td>0</td>\n",
       "    </tr>\n",
       "    <tr>\n",
       "      <th>77</th>\n",
       "      <td>379267</td>\n",
       "      <td>0</td>\n",
       "      <td>0</td>\n",
       "      <td>0</td>\n",
       "      <td>0</td>\n",
       "      <td>0</td>\n",
       "      <td>0</td>\n",
       "      <td>0</td>\n",
       "      <td>0</td>\n",
       "      <td>0</td>\n",
       "      <td>0</td>\n",
       "      <td>0</td>\n",
       "      <td>0</td>\n",
       "      <td>0</td>\n",
       "    </tr>\n",
       "    <tr>\n",
       "      <th>...</th>\n",
       "      <td>...</td>\n",
       "      <td>...</td>\n",
       "      <td>...</td>\n",
       "      <td>...</td>\n",
       "      <td>...</td>\n",
       "      <td>...</td>\n",
       "      <td>...</td>\n",
       "      <td>...</td>\n",
       "      <td>...</td>\n",
       "      <td>...</td>\n",
       "      <td>...</td>\n",
       "      <td>...</td>\n",
       "      <td>...</td>\n",
       "      <td>...</td>\n",
       "    </tr>\n",
       "    <tr>\n",
       "      <th>361524</th>\n",
       "      <td>4833866</td>\n",
       "      <td>0</td>\n",
       "      <td>0</td>\n",
       "      <td>0</td>\n",
       "      <td>0</td>\n",
       "      <td>0</td>\n",
       "      <td>0</td>\n",
       "      <td>0</td>\n",
       "      <td>0</td>\n",
       "      <td>0</td>\n",
       "      <td>0</td>\n",
       "      <td>0</td>\n",
       "      <td>0</td>\n",
       "      <td>0</td>\n",
       "    </tr>\n",
       "    <tr>\n",
       "      <th>361525</th>\n",
       "      <td>4834098</td>\n",
       "      <td>0</td>\n",
       "      <td>0</td>\n",
       "      <td>0</td>\n",
       "      <td>0</td>\n",
       "      <td>0</td>\n",
       "      <td>0</td>\n",
       "      <td>0</td>\n",
       "      <td>0</td>\n",
       "      <td>0</td>\n",
       "      <td>0</td>\n",
       "      <td>0</td>\n",
       "      <td>0</td>\n",
       "      <td>0</td>\n",
       "    </tr>\n",
       "    <tr>\n",
       "      <th>361526</th>\n",
       "      <td>4834464</td>\n",
       "      <td>0</td>\n",
       "      <td>0</td>\n",
       "      <td>0</td>\n",
       "      <td>0</td>\n",
       "      <td>0</td>\n",
       "      <td>0</td>\n",
       "      <td>0</td>\n",
       "      <td>0</td>\n",
       "      <td>0</td>\n",
       "      <td>0</td>\n",
       "      <td>0</td>\n",
       "      <td>0</td>\n",
       "      <td>0</td>\n",
       "    </tr>\n",
       "    <tr>\n",
       "      <th>361527</th>\n",
       "      <td>4835063</td>\n",
       "      <td>0</td>\n",
       "      <td>0</td>\n",
       "      <td>0</td>\n",
       "      <td>0</td>\n",
       "      <td>0</td>\n",
       "      <td>0</td>\n",
       "      <td>0</td>\n",
       "      <td>0</td>\n",
       "      <td>0</td>\n",
       "      <td>0</td>\n",
       "      <td>0</td>\n",
       "      <td>0</td>\n",
       "      <td>0</td>\n",
       "    </tr>\n",
       "    <tr>\n",
       "      <th>361528</th>\n",
       "      <td>4835160</td>\n",
       "      <td>0</td>\n",
       "      <td>0</td>\n",
       "      <td>0</td>\n",
       "      <td>0</td>\n",
       "      <td>0</td>\n",
       "      <td>0</td>\n",
       "      <td>0</td>\n",
       "      <td>0</td>\n",
       "      <td>0</td>\n",
       "      <td>0</td>\n",
       "      <td>0</td>\n",
       "      <td>0</td>\n",
       "      <td>0</td>\n",
       "    </tr>\n",
       "  </tbody>\n",
       "</table>\n",
       "<p>50173 rows × 14 columns</p>\n",
       "</div>"
      ],
      "text/plain": [
       "        person_id  hyperthyroid_bb  af_bb  hf_k_sparing  acne_k_sparing  \\\n",
       "3          377927                0      0             0               0   \n",
       "18         378360                0      0             0               1   \n",
       "19         378368                0      0             0               0   \n",
       "43         378869                0      0             0               0   \n",
       "77         379267                0      0             0               0   \n",
       "...           ...              ...    ...           ...             ...   \n",
       "361524    4833866                0      0             0               0   \n",
       "361525    4834098                0      0             0               0   \n",
       "361526    4834464                0      0             0               0   \n",
       "361527    4835063                0      0             0               0   \n",
       "361528    4835160                0      0             0               0   \n",
       "\n",
       "        hair_k_sparing  cirr_k_sparing  hf_loop  bph_alpha  hf_acei  hf_arb  \\\n",
       "3                    0               0        1          0        0       0   \n",
       "18                   0               0        0          0        0       0   \n",
       "19                   0               0        1          0        1       0   \n",
       "43                   0               0        0          0        0       0   \n",
       "77                   0               0        0          0        0       0   \n",
       "...                ...             ...      ...        ...      ...     ...   \n",
       "361524               0               0        0          0        0       0   \n",
       "361525               0               0        0          0        0       0   \n",
       "361526               0               0        0          0        0       0   \n",
       "361527               0               0        0          0        0       0   \n",
       "361528               0               0        0          0        0       0   \n",
       "\n",
       "        arrythmia_nondhp  preg_alpha2  summary  \n",
       "3                      0            0        1  \n",
       "18                     0            0        1  \n",
       "19                     0            0        2  \n",
       "43                     0            0        0  \n",
       "77                     0            0        0  \n",
       "...                  ...          ...      ...  \n",
       "361524                 0            0        0  \n",
       "361525                 0            0        0  \n",
       "361526                 0            0        0  \n",
       "361527                 0            0        0  \n",
       "361528                 0            0        0  \n",
       "\n",
       "[50173 rows x 14 columns]"
      ]
     },
     "execution_count": 56,
     "metadata": {},
     "output_type": "execute_result"
    }
   ],
   "source": [
    "exclusion_df"
   ]
  },
  {
   "cell_type": "code",
   "execution_count": 57,
   "metadata": {},
   "outputs": [],
   "source": [
    "exclusion_df.to_csv('..\\..\\data\\exclusion_drug_only_28apr24_edited.csv', index=False)"
   ]
  },
  {
   "cell_type": "code",
   "execution_count": 58,
   "metadata": {},
   "outputs": [
    {
     "data": {
      "text/html": [
       "<div>\n",
       "<style scoped>\n",
       "    .dataframe tbody tr th:only-of-type {\n",
       "        vertical-align: middle;\n",
       "    }\n",
       "\n",
       "    .dataframe tbody tr th {\n",
       "        vertical-align: top;\n",
       "    }\n",
       "\n",
       "    .dataframe thead th {\n",
       "        text-align: right;\n",
       "    }\n",
       "</style>\n",
       "<table border=\"1\" class=\"dataframe\">\n",
       "  <thead>\n",
       "    <tr style=\"text-align: right;\">\n",
       "      <th></th>\n",
       "      <th>person_id</th>\n",
       "      <th>hyperthyroid_bb</th>\n",
       "      <th>af_bb</th>\n",
       "      <th>hf_k_sparing</th>\n",
       "      <th>acne_k_sparing</th>\n",
       "      <th>hair_k_sparing</th>\n",
       "      <th>cirr_k_sparing</th>\n",
       "      <th>hf_loop</th>\n",
       "      <th>bph_alpha</th>\n",
       "      <th>hf_acei</th>\n",
       "      <th>hf_arb</th>\n",
       "      <th>arrythmia_nondhp</th>\n",
       "      <th>preg_alpha2</th>\n",
       "      <th>summary</th>\n",
       "    </tr>\n",
       "  </thead>\n",
       "  <tbody>\n",
       "    <tr>\n",
       "      <th>3</th>\n",
       "      <td>377927</td>\n",
       "      <td>0</td>\n",
       "      <td>0</td>\n",
       "      <td>0</td>\n",
       "      <td>0</td>\n",
       "      <td>0</td>\n",
       "      <td>0</td>\n",
       "      <td>1</td>\n",
       "      <td>0</td>\n",
       "      <td>0</td>\n",
       "      <td>0</td>\n",
       "      <td>0</td>\n",
       "      <td>0</td>\n",
       "      <td>1</td>\n",
       "    </tr>\n",
       "    <tr>\n",
       "      <th>18</th>\n",
       "      <td>378360</td>\n",
       "      <td>0</td>\n",
       "      <td>0</td>\n",
       "      <td>0</td>\n",
       "      <td>1</td>\n",
       "      <td>0</td>\n",
       "      <td>0</td>\n",
       "      <td>0</td>\n",
       "      <td>0</td>\n",
       "      <td>0</td>\n",
       "      <td>0</td>\n",
       "      <td>0</td>\n",
       "      <td>0</td>\n",
       "      <td>1</td>\n",
       "    </tr>\n",
       "    <tr>\n",
       "      <th>19</th>\n",
       "      <td>378368</td>\n",
       "      <td>0</td>\n",
       "      <td>0</td>\n",
       "      <td>0</td>\n",
       "      <td>0</td>\n",
       "      <td>0</td>\n",
       "      <td>0</td>\n",
       "      <td>1</td>\n",
       "      <td>0</td>\n",
       "      <td>1</td>\n",
       "      <td>0</td>\n",
       "      <td>0</td>\n",
       "      <td>0</td>\n",
       "      <td>2</td>\n",
       "    </tr>\n",
       "    <tr>\n",
       "      <th>80</th>\n",
       "      <td>379301</td>\n",
       "      <td>0</td>\n",
       "      <td>0</td>\n",
       "      <td>0</td>\n",
       "      <td>1</td>\n",
       "      <td>0</td>\n",
       "      <td>0</td>\n",
       "      <td>0</td>\n",
       "      <td>0</td>\n",
       "      <td>0</td>\n",
       "      <td>0</td>\n",
       "      <td>0</td>\n",
       "      <td>0</td>\n",
       "      <td>1</td>\n",
       "    </tr>\n",
       "    <tr>\n",
       "      <th>89</th>\n",
       "      <td>379481</td>\n",
       "      <td>0</td>\n",
       "      <td>0</td>\n",
       "      <td>0</td>\n",
       "      <td>0</td>\n",
       "      <td>0</td>\n",
       "      <td>1</td>\n",
       "      <td>0</td>\n",
       "      <td>0</td>\n",
       "      <td>0</td>\n",
       "      <td>0</td>\n",
       "      <td>0</td>\n",
       "      <td>0</td>\n",
       "      <td>1</td>\n",
       "    </tr>\n",
       "    <tr>\n",
       "      <th>...</th>\n",
       "      <td>...</td>\n",
       "      <td>...</td>\n",
       "      <td>...</td>\n",
       "      <td>...</td>\n",
       "      <td>...</td>\n",
       "      <td>...</td>\n",
       "      <td>...</td>\n",
       "      <td>...</td>\n",
       "      <td>...</td>\n",
       "      <td>...</td>\n",
       "      <td>...</td>\n",
       "      <td>...</td>\n",
       "      <td>...</td>\n",
       "      <td>...</td>\n",
       "    </tr>\n",
       "    <tr>\n",
       "      <th>361396</th>\n",
       "      <td>4810105</td>\n",
       "      <td>0</td>\n",
       "      <td>0</td>\n",
       "      <td>0</td>\n",
       "      <td>0</td>\n",
       "      <td>0</td>\n",
       "      <td>0</td>\n",
       "      <td>1</td>\n",
       "      <td>0</td>\n",
       "      <td>0</td>\n",
       "      <td>0</td>\n",
       "      <td>0</td>\n",
       "      <td>0</td>\n",
       "      <td>1</td>\n",
       "    </tr>\n",
       "    <tr>\n",
       "      <th>361440</th>\n",
       "      <td>4811154</td>\n",
       "      <td>0</td>\n",
       "      <td>0</td>\n",
       "      <td>0</td>\n",
       "      <td>0</td>\n",
       "      <td>0</td>\n",
       "      <td>1</td>\n",
       "      <td>0</td>\n",
       "      <td>0</td>\n",
       "      <td>0</td>\n",
       "      <td>0</td>\n",
       "      <td>0</td>\n",
       "      <td>0</td>\n",
       "      <td>1</td>\n",
       "    </tr>\n",
       "    <tr>\n",
       "      <th>361493</th>\n",
       "      <td>4812101</td>\n",
       "      <td>0</td>\n",
       "      <td>0</td>\n",
       "      <td>0</td>\n",
       "      <td>0</td>\n",
       "      <td>0</td>\n",
       "      <td>0</td>\n",
       "      <td>1</td>\n",
       "      <td>0</td>\n",
       "      <td>0</td>\n",
       "      <td>0</td>\n",
       "      <td>0</td>\n",
       "      <td>0</td>\n",
       "      <td>1</td>\n",
       "    </tr>\n",
       "    <tr>\n",
       "      <th>361506</th>\n",
       "      <td>4812316</td>\n",
       "      <td>0</td>\n",
       "      <td>0</td>\n",
       "      <td>0</td>\n",
       "      <td>0</td>\n",
       "      <td>0</td>\n",
       "      <td>0</td>\n",
       "      <td>1</td>\n",
       "      <td>0</td>\n",
       "      <td>0</td>\n",
       "      <td>0</td>\n",
       "      <td>0</td>\n",
       "      <td>0</td>\n",
       "      <td>1</td>\n",
       "    </tr>\n",
       "    <tr>\n",
       "      <th>361507</th>\n",
       "      <td>4812323</td>\n",
       "      <td>0</td>\n",
       "      <td>0</td>\n",
       "      <td>0</td>\n",
       "      <td>0</td>\n",
       "      <td>0</td>\n",
       "      <td>0</td>\n",
       "      <td>1</td>\n",
       "      <td>0</td>\n",
       "      <td>0</td>\n",
       "      <td>0</td>\n",
       "      <td>0</td>\n",
       "      <td>0</td>\n",
       "      <td>1</td>\n",
       "    </tr>\n",
       "  </tbody>\n",
       "</table>\n",
       "<p>7188 rows × 14 columns</p>\n",
       "</div>"
      ],
      "text/plain": [
       "        person_id  hyperthyroid_bb  af_bb  hf_k_sparing  acne_k_sparing  \\\n",
       "3          377927                0      0             0               0   \n",
       "18         378360                0      0             0               1   \n",
       "19         378368                0      0             0               0   \n",
       "80         379301                0      0             0               1   \n",
       "89         379481                0      0             0               0   \n",
       "...           ...              ...    ...           ...             ...   \n",
       "361396    4810105                0      0             0               0   \n",
       "361440    4811154                0      0             0               0   \n",
       "361493    4812101                0      0             0               0   \n",
       "361506    4812316                0      0             0               0   \n",
       "361507    4812323                0      0             0               0   \n",
       "\n",
       "        hair_k_sparing  cirr_k_sparing  hf_loop  bph_alpha  hf_acei  hf_arb  \\\n",
       "3                    0               0        1          0        0       0   \n",
       "18                   0               0        0          0        0       0   \n",
       "19                   0               0        1          0        1       0   \n",
       "80                   0               0        0          0        0       0   \n",
       "89                   0               1        0          0        0       0   \n",
       "...                ...             ...      ...        ...      ...     ...   \n",
       "361396               0               0        1          0        0       0   \n",
       "361440               0               1        0          0        0       0   \n",
       "361493               0               0        1          0        0       0   \n",
       "361506               0               0        1          0        0       0   \n",
       "361507               0               0        1          0        0       0   \n",
       "\n",
       "        arrythmia_nondhp  preg_alpha2  summary  \n",
       "3                      0            0        1  \n",
       "18                     0            0        1  \n",
       "19                     0            0        2  \n",
       "80                     0            0        1  \n",
       "89                     0            0        1  \n",
       "...                  ...          ...      ...  \n",
       "361396                 0            0        1  \n",
       "361440                 0            0        1  \n",
       "361493                 0            0        1  \n",
       "361506                 0            0        1  \n",
       "361507                 0            0        1  \n",
       "\n",
       "[7188 rows x 14 columns]"
      ]
     },
     "execution_count": 58,
     "metadata": {},
     "output_type": "execute_result"
    }
   ],
   "source": [
    "exclusion_df[exclusion_df['summary'] >=1]"
   ]
  }
 ],
 "metadata": {
  "kernelspec": {
   "display_name": "Python 3",
   "language": "python",
   "name": "python3"
  },
  "language_info": {
   "codemirror_mode": {
    "name": "ipython",
    "version": 3
   },
   "file_extension": ".py",
   "mimetype": "text/x-python",
   "name": "python",
   "nbconvert_exporter": "python",
   "pygments_lexer": "ipython3",
   "version": "3.11.7"
  }
 },
 "nbformat": 4,
 "nbformat_minor": 2
}
